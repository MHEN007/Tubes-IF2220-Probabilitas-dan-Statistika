{
 "cells": [
  {
   "cell_type": "markdown",
   "metadata": {},
   "source": [
    "# Tugas Besar 1 - IF2220 Probabilitas dan Statistika\n",
    "## Dibuat Oleh\n",
    "| NIM      | Nama                        |\n",
    "| -------- | --------------------------- |\n",
    "| 13521004 | Henry Anand Septian Radityo |\n",
    "| 13521007 | Matthew Mahendra            |"
   ]
  },
  {
   "cell_type": "markdown",
   "metadata": {},
   "source": [
    "# Setup"
   ]
  },
  {
   "cell_type": "code",
   "execution_count": 1,
   "metadata": {
    "execution": {
     "iopub.execute_input": "2023-04-03T19:18:28.082485Z",
     "iopub.status.busy": "2023-04-03T19:18:28.082002Z",
     "iopub.status.idle": "2023-04-03T19:18:28.102555Z",
     "shell.execute_reply": "2023-04-03T19:18:28.100756Z",
     "shell.execute_reply.started": "2023-04-03T19:18:28.082442Z"
    }
   },
   "outputs": [],
   "source": [
    "import pandas as pd\n",
    "import numpy as np\n",
    "import matplotlib.pyplot as plt\n",
    "import seaborn as sns\n",
    "import scipy.stats\n",
    "from scipy import stats\n",
    "from scipy.stats import norm\n",
    "from scipy.stats import shapiro, probplot\n",
    "from IPython.display import display, Markdown, Latex\n",
    "\n",
    "df = pd.read_csv('anggur.csv')\n",
    "\n",
    "# Cleanup untuk data NaN jika ada\n",
    "df = df.dropna()"
   ]
  },
  {
   "cell_type": "markdown",
   "metadata": {},
   "source": [
    "# SOAL"
   ]
  },
  {
   "cell_type": "markdown",
   "metadata": {},
   "source": [
    "Diberikan sebuah data anggur.csv yang dapat diakses pada utas berikut: [Dataset Tugas Besar IF2220](https://github.com/MHEN2606/Tubes-IF2220-Probabilitas-dan-Statistika/blob/main/anggur.csv) merupakan data metrik kualitas wine (minuman anggur) yang mengandung 12 kolom sebagai berikut:\n",
    "1. fixed acidity\n",
    "2. volatile acidity\n",
    "3. citric acid\n",
    "4. residual sugar\n",
    "5. chlorides\n",
    "6. free sulfur dioxide\n",
    "7. total sulfur dioxide\n",
    "8. density\n",
    "9. pH\n",
    "10. sulphates\n",
    "11. alcohol\n",
    "12. quality\n",
    "\n",
    "\n",
    "Kolom 1-11 adalah kolom atribut (non-target), sedangkan kolom 12 adalah kolom\n",
    "target. Anda diminta untuk melakukan analisis statistika sebagai berikut:\n",
    "1. Menulis deskripsi statistika (Descriptive Statistics) dari semua kolom pada data yang bersifat numerik, terdiri dari mean, median, modus, standar deviasi, variansi, range, nilai minimum, maksimum, kuartil, IQR, skewness dan kurtosis. Boleh juga ditambahkan deskripsi lain.\n",
    "2. Membuat Visualisasi plot distribusi, dalam bentuk histogram dan boxplot untuk setiap kolom numerik. Berikan uraian penjelasan kondisi setiap kolom berdasarkan kedua plot tersebut.\n",
    "3. Menentukan setiap kolom numerik berdistribusi normal atau tidak. Gunakan normality test yang dikaitkan dengan histogram plot.\n",
    "4. Melakukan test hipotesis 1 sampel,\n",
    "- Nilai rata-rata pH di atas 3.29?\n",
    "- Nilai rata-rata Residual Sugar tidak sama dengan 2.50?\n",
    "- Nilai rata-rata 150 baris pertama kolom sulphates bukan 0.65?\n",
    "- Nilai rata-rata total sulfur dioxide di bawah 35\n",
    "- Proporsi nilai total Sulfat Dioxide yang lebih dari 40, adalah tidak sama dengan 50% ?\n",
    "\n",
    "5. Melakukan test hipotesis 2 sampel,\n",
    "- Data kolom fixed acidity dibagi 2 sama rata: bagian awal dan bagian akhir kolom. Benarkah rata-rata kedua bagian tersebut sama?\n",
    "- Data kolom chlorides dibagi 2 sama rata: bagian awal dan bagian akhir kolom. Benarkah rata-rata bagian awal lebih besar daripada bagian akhir sebesar 0.001?\n",
    "- Benarkah rata-rata sampel 25 baris pertama kolom Volatile Acidity sama dengan rata-rata 25 baris pertama kolom Sulphates ?\n",
    "- Bagian awal kolom residual sugar memiliki variansi yang sama dengan bagian akhirnya?\n",
    "- Proporsi nilai setengah bagian awal alcohol yang lebih dari 7, adalah lebih besar daripada, proporsi nilai yang sama di setengah bagian akhir alcohol?"
   ]
  },
  {
   "cell_type": "markdown",
   "metadata": {},
   "source": [
    "***"
   ]
  },
  {
   "cell_type": "markdown",
   "metadata": {},
   "source": [
    "# SOAL 1"
   ]
  },
  {
   "cell_type": "markdown",
   "metadata": {},
   "source": [
    "Mean of Data"
   ]
  },
  {
   "cell_type": "code",
   "execution_count": 2,
   "metadata": {
    "execution": {
     "iopub.execute_input": "2023-04-03T16:16:54.023658Z",
     "iopub.status.busy": "2023-04-03T16:16:54.023225Z",
     "iopub.status.idle": "2023-04-03T16:16:54.038083Z",
     "shell.execute_reply": "2023-04-03T16:16:54.036424Z",
     "shell.execute_reply.started": "2023-04-03T16:16:54.023613Z"
    }
   },
   "outputs": [
    {
     "data": {
      "text/plain": [
       "fixed acidity            7.152530\n",
       "volatile acidity         0.520839\n",
       "citric acid              0.270517\n",
       "residual sugar           2.567104\n",
       "chlorides                0.081195\n",
       "free sulfur dioxide     14.907679\n",
       "total sulfur dioxide    40.290150\n",
       "density                  0.995925\n",
       "pH                       3.303610\n",
       "sulphates                0.598390\n",
       "alcohol                 10.592280\n",
       "quality                  7.958000\n",
       "dtype: float64"
      ]
     },
     "execution_count": 2,
     "metadata": {},
     "output_type": "execute_result"
    }
   ],
   "source": [
    "# Mean dari setiap kolom\n",
    "df.mean()"
   ]
  },
  {
   "cell_type": "markdown",
   "metadata": {},
   "source": [
    "Median of Data"
   ]
  },
  {
   "cell_type": "code",
   "execution_count": 3,
   "metadata": {
    "execution": {
     "iopub.execute_input": "2023-04-03T16:16:54.040360Z",
     "iopub.status.busy": "2023-04-03T16:16:54.039982Z",
     "iopub.status.idle": "2023-04-03T16:16:54.054142Z",
     "shell.execute_reply": "2023-04-03T16:16:54.052763Z",
     "shell.execute_reply.started": "2023-04-03T16:16:54.040323Z"
    }
   },
   "outputs": [
    {
     "data": {
      "text/plain": [
       "fixed acidity            7.150000\n",
       "volatile acidity         0.524850\n",
       "citric acid              0.272200\n",
       "residual sugar           2.519430\n",
       "chlorides                0.082167\n",
       "free sulfur dioxide     14.860346\n",
       "total sulfur dioxide    40.190000\n",
       "density                  0.996000\n",
       "pH                       3.300000\n",
       "sulphates                0.595000\n",
       "alcohol                 10.610000\n",
       "quality                  8.000000\n",
       "dtype: float64"
      ]
     },
     "execution_count": 3,
     "metadata": {},
     "output_type": "execute_result"
    }
   ],
   "source": [
    "# Median dari setiap kolom\n",
    "df.median()"
   ]
  },
  {
   "cell_type": "markdown",
   "metadata": {},
   "source": [
    "Standar Deviation of Data"
   ]
  },
  {
   "cell_type": "code",
   "execution_count": 4,
   "metadata": {
    "execution": {
     "iopub.execute_input": "2023-04-03T16:16:54.056064Z",
     "iopub.status.busy": "2023-04-03T16:16:54.055688Z",
     "iopub.status.idle": "2023-04-03T16:16:54.067069Z",
     "shell.execute_reply": "2023-04-03T16:16:54.065586Z",
     "shell.execute_reply.started": "2023-04-03T16:16:54.056028Z"
    }
   },
   "outputs": [
    {
     "data": {
      "text/plain": [
       "fixed acidity           1.201598\n",
       "volatile acidity        0.095848\n",
       "citric acid             0.049098\n",
       "residual sugar          0.987915\n",
       "chlorides               0.020111\n",
       "free sulfur dioxide     4.888100\n",
       "total sulfur dioxide    9.965767\n",
       "density                 0.002020\n",
       "pH                      0.104875\n",
       "sulphates               0.100819\n",
       "alcohol                 1.510706\n",
       "quality                 0.902802\n",
       "dtype: float64"
      ]
     },
     "execution_count": 4,
     "metadata": {},
     "output_type": "execute_result"
    }
   ],
   "source": [
    "# Standar Deviation dari setiap kolom\n",
    "df.std()"
   ]
  },
  {
   "cell_type": "markdown",
   "metadata": {},
   "source": [
    "Variance of Data"
   ]
  },
  {
   "cell_type": "code",
   "execution_count": 5,
   "metadata": {
    "execution": {
     "iopub.execute_input": "2023-04-03T16:16:54.072275Z",
     "iopub.status.busy": "2023-04-03T16:16:54.071883Z",
     "iopub.status.idle": "2023-04-03T16:16:54.083888Z",
     "shell.execute_reply": "2023-04-03T16:16:54.082520Z",
     "shell.execute_reply.started": "2023-04-03T16:16:54.072239Z"
    }
   },
   "outputs": [
    {
     "data": {
      "text/plain": [
       "fixed acidity            1.443837\n",
       "volatile acidity         0.009187\n",
       "citric acid              0.002411\n",
       "residual sugar           0.975977\n",
       "chlorides                0.000404\n",
       "free sulfur dioxide     23.893519\n",
       "total sulfur dioxide    99.316519\n",
       "density                  0.000004\n",
       "pH                       0.010999\n",
       "sulphates                0.010164\n",
       "alcohol                  2.282233\n",
       "quality                  0.815051\n",
       "dtype: float64"
      ]
     },
     "execution_count": 5,
     "metadata": {},
     "output_type": "execute_result"
    }
   ],
   "source": [
    "# Variance\n",
    "df.std()**2"
   ]
  },
  {
   "cell_type": "markdown",
   "metadata": {},
   "source": [
    "Range of Data"
   ]
  },
  {
   "cell_type": "code",
   "execution_count": 6,
   "metadata": {
    "execution": {
     "iopub.execute_input": "2023-04-03T16:16:54.086932Z",
     "iopub.status.busy": "2023-04-03T16:16:54.085778Z",
     "iopub.status.idle": "2023-04-03T16:16:54.099763Z",
     "shell.execute_reply": "2023-04-03T16:16:54.098724Z",
     "shell.execute_reply.started": "2023-04-03T16:16:54.086878Z"
    }
   },
   "outputs": [
    {
     "data": {
      "text/plain": [
       "fixed acidity            8.170000\n",
       "volatile acidity         0.665200\n",
       "citric acid              0.292900\n",
       "residual sugar           5.518200\n",
       "chlorides                0.125635\n",
       "free sulfur dioxide     27.267847\n",
       "total sulfur dioxide    66.810000\n",
       "density                  0.013800\n",
       "pH                       0.740000\n",
       "sulphates                0.670000\n",
       "alcohol                  8.990000\n",
       "quality                  5.000000\n",
       "dtype: float64"
      ]
     },
     "execution_count": 6,
     "metadata": {},
     "output_type": "execute_result"
    }
   ],
   "source": [
    "# Range\n",
    "df.max() - df.min()"
   ]
  },
  {
   "cell_type": "markdown",
   "metadata": {},
   "source": [
    "Quantiles of Data"
   ]
  },
  {
   "cell_type": "code",
   "execution_count": 7,
   "metadata": {
    "execution": {
     "iopub.execute_input": "2023-04-03T16:16:54.101886Z",
     "iopub.status.busy": "2023-04-03T16:16:54.101142Z",
     "iopub.status.idle": "2023-04-03T16:16:54.113959Z",
     "shell.execute_reply": "2023-04-03T16:16:54.112851Z",
     "shell.execute_reply.started": "2023-04-03T16:16:54.101828Z"
    }
   },
   "outputs": [
    {
     "data": {
      "text/plain": [
       "fixed acidity            6.377500\n",
       "volatile acidity         0.456100\n",
       "citric acid              0.237800\n",
       "residual sugar           1.896330\n",
       "chlorides                0.066574\n",
       "free sulfur dioxide     11.426717\n",
       "total sulfur dioxide    33.785000\n",
       "density                  0.994600\n",
       "pH                       3.230000\n",
       "sulphates                0.530000\n",
       "alcohol                  9.560000\n",
       "quality                  7.000000\n",
       "Name: 0.25, dtype: float64"
      ]
     },
     "execution_count": 7,
     "metadata": {},
     "output_type": "execute_result"
    }
   ],
   "source": [
    "# Q1\n",
    "df.quantile(0.25)"
   ]
  },
  {
   "cell_type": "code",
   "execution_count": 8,
   "metadata": {
    "execution": {
     "iopub.execute_input": "2023-04-03T16:16:54.117039Z",
     "iopub.status.busy": "2023-04-03T16:16:54.115687Z",
     "iopub.status.idle": "2023-04-03T16:16:54.126443Z",
     "shell.execute_reply": "2023-04-03T16:16:54.125482Z",
     "shell.execute_reply.started": "2023-04-03T16:16:54.116988Z"
    }
   },
   "outputs": [
    {
     "data": {
      "text/plain": [
       "fixed acidity            7.150000\n",
       "volatile acidity         0.524850\n",
       "citric acid              0.272200\n",
       "residual sugar           2.519430\n",
       "chlorides                0.082167\n",
       "free sulfur dioxide     14.860346\n",
       "total sulfur dioxide    40.190000\n",
       "density                  0.996000\n",
       "pH                       3.300000\n",
       "sulphates                0.595000\n",
       "alcohol                 10.610000\n",
       "quality                  8.000000\n",
       "Name: 0.5, dtype: float64"
      ]
     },
     "execution_count": 8,
     "metadata": {},
     "output_type": "execute_result"
    }
   ],
   "source": [
    "# Q2\n",
    "df.quantile(0.5)"
   ]
  },
  {
   "cell_type": "code",
   "execution_count": 9,
   "metadata": {
    "execution": {
     "iopub.execute_input": "2023-04-03T16:16:54.129337Z",
     "iopub.status.busy": "2023-04-03T16:16:54.128632Z",
     "iopub.status.idle": "2023-04-03T16:16:54.140591Z",
     "shell.execute_reply": "2023-04-03T16:16:54.139577Z",
     "shell.execute_reply.started": "2023-04-03T16:16:54.129287Z"
    }
   },
   "outputs": [
    {
     "data": {
      "text/plain": [
       "fixed acidity            8.000000\n",
       "volatile acidity         0.585375\n",
       "citric acid              0.302325\n",
       "residual sugar           3.220873\n",
       "chlorides                0.095312\n",
       "free sulfur dioxide     18.313098\n",
       "total sulfur dioxide    47.022500\n",
       "density                  0.997200\n",
       "pH                       3.370000\n",
       "sulphates                0.670000\n",
       "alcohol                 11.622500\n",
       "quality                  9.000000\n",
       "Name: 0.75, dtype: float64"
      ]
     },
     "execution_count": 9,
     "metadata": {},
     "output_type": "execute_result"
    }
   ],
   "source": [
    "# Q3\n",
    "df.quantile(0.75)"
   ]
  },
  {
   "cell_type": "markdown",
   "metadata": {},
   "source": [
    "Inter-Quantile Range of Data"
   ]
  },
  {
   "cell_type": "code",
   "execution_count": 10,
   "metadata": {
    "execution": {
     "iopub.execute_input": "2023-04-03T16:16:54.142661Z",
     "iopub.status.busy": "2023-04-03T16:16:54.142038Z",
     "iopub.status.idle": "2023-04-03T16:16:54.154451Z",
     "shell.execute_reply": "2023-04-03T16:16:54.153267Z",
     "shell.execute_reply.started": "2023-04-03T16:16:54.142624Z"
    }
   },
   "outputs": [
    {
     "data": {
      "text/plain": [
       "fixed acidity            1.622500\n",
       "volatile acidity         0.129275\n",
       "citric acid              0.064525\n",
       "residual sugar           1.324544\n",
       "chlorides                0.028738\n",
       "free sulfur dioxide      6.886381\n",
       "total sulfur dioxide    13.237500\n",
       "density                  0.002600\n",
       "pH                       0.140000\n",
       "sulphates                0.140000\n",
       "alcohol                  2.062500\n",
       "quality                  2.000000\n",
       "dtype: float64"
      ]
     },
     "execution_count": 10,
     "metadata": {},
     "output_type": "execute_result"
    }
   ],
   "source": [
    "# IQR\n",
    "df.quantile(0.75) - df.quantile(0.25)"
   ]
  },
  {
   "cell_type": "markdown",
   "metadata": {},
   "source": [
    "Skewness of Data"
   ]
  },
  {
   "cell_type": "code",
   "execution_count": 11,
   "metadata": {
    "execution": {
     "iopub.execute_input": "2023-04-03T16:16:54.156564Z",
     "iopub.status.busy": "2023-04-03T16:16:54.155936Z",
     "iopub.status.idle": "2023-04-03T16:16:54.165206Z",
     "shell.execute_reply": "2023-04-03T16:16:54.163768Z",
     "shell.execute_reply.started": "2023-04-03T16:16:54.156498Z"
    },
    "scrolled": true
   },
   "outputs": [
    {
     "data": {
      "text/plain": [
       "fixed acidity          -0.028879\n",
       "volatile acidity       -0.197699\n",
       "citric acid            -0.045576\n",
       "residual sugar          0.132638\n",
       "chlorides              -0.051319\n",
       "free sulfur dioxide     0.007130\n",
       "total sulfur dioxide   -0.024060\n",
       "density                -0.076883\n",
       "pH                      0.147673\n",
       "sulphates               0.149199\n",
       "alcohol                -0.018991\n",
       "quality                -0.089054\n",
       "dtype: float64"
      ]
     },
     "execution_count": 11,
     "metadata": {},
     "output_type": "execute_result"
    }
   ],
   "source": [
    "# Skewness\n",
    "df.skew()"
   ]
  },
  {
   "cell_type": "markdown",
   "metadata": {},
   "source": [
    "Kurtosis of Data"
   ]
  },
  {
   "cell_type": "code",
   "execution_count": 12,
   "metadata": {
    "execution": {
     "iopub.execute_input": "2023-04-03T16:16:54.167066Z",
     "iopub.status.busy": "2023-04-03T16:16:54.166722Z",
     "iopub.status.idle": "2023-04-03T16:16:54.177868Z",
     "shell.execute_reply": "2023-04-03T16:16:54.176482Z",
     "shell.execute_reply.started": "2023-04-03T16:16:54.167035Z"
    },
    "scrolled": true
   },
   "outputs": [
    {
     "data": {
      "text/plain": [
       "fixed acidity          -0.019292\n",
       "volatile acidity        0.161853\n",
       "citric acid            -0.104679\n",
       "residual sugar         -0.042980\n",
       "chlorides              -0.246508\n",
       "free sulfur dioxide    -0.364964\n",
       "total sulfur dioxide    0.063950\n",
       "density                 0.016366\n",
       "pH                      0.080910\n",
       "sulphates               0.064819\n",
       "alcohol                -0.131732\n",
       "quality                 0.108291\n",
       "dtype: float64"
      ]
     },
     "execution_count": 12,
     "metadata": {},
     "output_type": "execute_result"
    }
   ],
   "source": [
    "# Kurtosis\n",
    "df.kurtosis()"
   ]
  },
  {
   "cell_type": "markdown",
   "metadata": {},
   "source": [
    "Mode of Data"
   ]
  },
  {
   "cell_type": "code",
   "execution_count": 13,
   "metadata": {
    "scrolled": true
   },
   "outputs": [
    {
     "data": {
      "text/html": [
       "<div>\n",
       "<style scoped>\n",
       "    .dataframe tbody tr th:only-of-type {\n",
       "        vertical-align: middle;\n",
       "    }\n",
       "\n",
       "    .dataframe tbody tr th {\n",
       "        vertical-align: top;\n",
       "    }\n",
       "\n",
       "    .dataframe thead th {\n",
       "        text-align: right;\n",
       "    }\n",
       "</style>\n",
       "<table border=\"1\" class=\"dataframe\">\n",
       "  <thead>\n",
       "    <tr style=\"text-align: right;\">\n",
       "      <th></th>\n",
       "      <th>fixed acidity</th>\n",
       "      <th>volatile acidity</th>\n",
       "      <th>citric acid</th>\n",
       "      <th>residual sugar</th>\n",
       "      <th>chlorides</th>\n",
       "      <th>free sulfur dioxide</th>\n",
       "      <th>total sulfur dioxide</th>\n",
       "      <th>density</th>\n",
       "      <th>pH</th>\n",
       "      <th>sulphates</th>\n",
       "      <th>alcohol</th>\n",
       "      <th>quality</th>\n",
       "    </tr>\n",
       "  </thead>\n",
       "  <tbody>\n",
       "    <tr>\n",
       "      <th>0</th>\n",
       "      <td>6.54</td>\n",
       "      <td>0.5546</td>\n",
       "      <td>0.3019</td>\n",
       "      <td>0.032555</td>\n",
       "      <td>0.015122</td>\n",
       "      <td>0.194679</td>\n",
       "      <td>35.20</td>\n",
       "      <td>0.9959</td>\n",
       "      <td>3.34</td>\n",
       "      <td>0.59</td>\n",
       "      <td>9.86</td>\n",
       "      <td>8.0</td>\n",
       "    </tr>\n",
       "    <tr>\n",
       "      <th>1</th>\n",
       "      <td>NaN</td>\n",
       "      <td>NaN</td>\n",
       "      <td>NaN</td>\n",
       "      <td>0.033333</td>\n",
       "      <td>0.020794</td>\n",
       "      <td>0.621628</td>\n",
       "      <td>37.25</td>\n",
       "      <td>0.9961</td>\n",
       "      <td>NaN</td>\n",
       "      <td>NaN</td>\n",
       "      <td>10.31</td>\n",
       "      <td>NaN</td>\n",
       "    </tr>\n",
       "    <tr>\n",
       "      <th>2</th>\n",
       "      <td>NaN</td>\n",
       "      <td>NaN</td>\n",
       "      <td>NaN</td>\n",
       "      <td>0.051774</td>\n",
       "      <td>0.024259</td>\n",
       "      <td>0.860177</td>\n",
       "      <td>39.64</td>\n",
       "      <td>0.9965</td>\n",
       "      <td>NaN</td>\n",
       "      <td>NaN</td>\n",
       "      <td>NaN</td>\n",
       "      <td>NaN</td>\n",
       "    </tr>\n",
       "    <tr>\n",
       "      <th>3</th>\n",
       "      <td>NaN</td>\n",
       "      <td>NaN</td>\n",
       "      <td>NaN</td>\n",
       "      <td>0.077156</td>\n",
       "      <td>0.027209</td>\n",
       "      <td>3.032139</td>\n",
       "      <td>40.61</td>\n",
       "      <td>0.9970</td>\n",
       "      <td>NaN</td>\n",
       "      <td>NaN</td>\n",
       "      <td>NaN</td>\n",
       "      <td>NaN</td>\n",
       "    </tr>\n",
       "    <tr>\n",
       "      <th>4</th>\n",
       "      <td>NaN</td>\n",
       "      <td>NaN</td>\n",
       "      <td>NaN</td>\n",
       "      <td>0.084744</td>\n",
       "      <td>0.032111</td>\n",
       "      <td>3.129885</td>\n",
       "      <td>41.05</td>\n",
       "      <td>NaN</td>\n",
       "      <td>NaN</td>\n",
       "      <td>NaN</td>\n",
       "      <td>NaN</td>\n",
       "      <td>NaN</td>\n",
       "    </tr>\n",
       "    <tr>\n",
       "      <th>...</th>\n",
       "      <td>...</td>\n",
       "      <td>...</td>\n",
       "      <td>...</td>\n",
       "      <td>...</td>\n",
       "      <td>...</td>\n",
       "      <td>...</td>\n",
       "      <td>...</td>\n",
       "      <td>...</td>\n",
       "      <td>...</td>\n",
       "      <td>...</td>\n",
       "      <td>...</td>\n",
       "      <td>...</td>\n",
       "    </tr>\n",
       "    <tr>\n",
       "      <th>995</th>\n",
       "      <td>NaN</td>\n",
       "      <td>NaN</td>\n",
       "      <td>NaN</td>\n",
       "      <td>5.210260</td>\n",
       "      <td>0.131425</td>\n",
       "      <td>26.630490</td>\n",
       "      <td>NaN</td>\n",
       "      <td>NaN</td>\n",
       "      <td>NaN</td>\n",
       "      <td>NaN</td>\n",
       "      <td>NaN</td>\n",
       "      <td>NaN</td>\n",
       "    </tr>\n",
       "    <tr>\n",
       "      <th>996</th>\n",
       "      <td>NaN</td>\n",
       "      <td>NaN</td>\n",
       "      <td>NaN</td>\n",
       "      <td>5.217429</td>\n",
       "      <td>0.133656</td>\n",
       "      <td>26.665773</td>\n",
       "      <td>NaN</td>\n",
       "      <td>NaN</td>\n",
       "      <td>NaN</td>\n",
       "      <td>NaN</td>\n",
       "      <td>NaN</td>\n",
       "      <td>NaN</td>\n",
       "    </tr>\n",
       "    <tr>\n",
       "      <th>997</th>\n",
       "      <td>NaN</td>\n",
       "      <td>NaN</td>\n",
       "      <td>NaN</td>\n",
       "      <td>5.252864</td>\n",
       "      <td>0.135368</td>\n",
       "      <td>26.822626</td>\n",
       "      <td>NaN</td>\n",
       "      <td>NaN</td>\n",
       "      <td>NaN</td>\n",
       "      <td>NaN</td>\n",
       "      <td>NaN</td>\n",
       "      <td>NaN</td>\n",
       "    </tr>\n",
       "    <tr>\n",
       "      <th>998</th>\n",
       "      <td>NaN</td>\n",
       "      <td>NaN</td>\n",
       "      <td>NaN</td>\n",
       "      <td>5.299524</td>\n",
       "      <td>0.135790</td>\n",
       "      <td>27.006307</td>\n",
       "      <td>NaN</td>\n",
       "      <td>NaN</td>\n",
       "      <td>NaN</td>\n",
       "      <td>NaN</td>\n",
       "      <td>NaN</td>\n",
       "      <td>NaN</td>\n",
       "    </tr>\n",
       "    <tr>\n",
       "      <th>999</th>\n",
       "      <td>NaN</td>\n",
       "      <td>NaN</td>\n",
       "      <td>NaN</td>\n",
       "      <td>5.550755</td>\n",
       "      <td>0.140758</td>\n",
       "      <td>27.462525</td>\n",
       "      <td>NaN</td>\n",
       "      <td>NaN</td>\n",
       "      <td>NaN</td>\n",
       "      <td>NaN</td>\n",
       "      <td>NaN</td>\n",
       "      <td>NaN</td>\n",
       "    </tr>\n",
       "  </tbody>\n",
       "</table>\n",
       "<p>1000 rows × 12 columns</p>\n",
       "</div>"
      ],
      "text/plain": [
       "     fixed acidity  volatile acidity  citric acid  residual sugar  chlorides  \\\n",
       "0             6.54            0.5546       0.3019        0.032555   0.015122   \n",
       "1              NaN               NaN          NaN        0.033333   0.020794   \n",
       "2              NaN               NaN          NaN        0.051774   0.024259   \n",
       "3              NaN               NaN          NaN        0.077156   0.027209   \n",
       "4              NaN               NaN          NaN        0.084744   0.032111   \n",
       "..             ...               ...          ...             ...        ...   \n",
       "995            NaN               NaN          NaN        5.210260   0.131425   \n",
       "996            NaN               NaN          NaN        5.217429   0.133656   \n",
       "997            NaN               NaN          NaN        5.252864   0.135368   \n",
       "998            NaN               NaN          NaN        5.299524   0.135790   \n",
       "999            NaN               NaN          NaN        5.550755   0.140758   \n",
       "\n",
       "     free sulfur dioxide  total sulfur dioxide  density    pH  sulphates  \\\n",
       "0               0.194679                 35.20   0.9959  3.34       0.59   \n",
       "1               0.621628                 37.25   0.9961   NaN        NaN   \n",
       "2               0.860177                 39.64   0.9965   NaN        NaN   \n",
       "3               3.032139                 40.61   0.9970   NaN        NaN   \n",
       "4               3.129885                 41.05      NaN   NaN        NaN   \n",
       "..                   ...                   ...      ...   ...        ...   \n",
       "995            26.630490                   NaN      NaN   NaN        NaN   \n",
       "996            26.665773                   NaN      NaN   NaN        NaN   \n",
       "997            26.822626                   NaN      NaN   NaN        NaN   \n",
       "998            27.006307                   NaN      NaN   NaN        NaN   \n",
       "999            27.462525                   NaN      NaN   NaN        NaN   \n",
       "\n",
       "     alcohol  quality  \n",
       "0       9.86      8.0  \n",
       "1      10.31      NaN  \n",
       "2        NaN      NaN  \n",
       "3        NaN      NaN  \n",
       "4        NaN      NaN  \n",
       "..       ...      ...  \n",
       "995      NaN      NaN  \n",
       "996      NaN      NaN  \n",
       "997      NaN      NaN  \n",
       "998      NaN      NaN  \n",
       "999      NaN      NaN  \n",
       "\n",
       "[1000 rows x 12 columns]"
      ]
     },
     "execution_count": 13,
     "metadata": {},
     "output_type": "execute_result"
    }
   ],
   "source": [
    "df.mode(numeric_only=True, dropna=True)"
   ]
  },
  {
   "cell_type": "code",
   "execution_count": 14,
   "metadata": {
    "execution": {
     "iopub.execute_input": "2023-04-03T16:16:54.179768Z",
     "iopub.status.busy": "2023-04-03T16:16:54.179371Z",
     "iopub.status.idle": "2023-04-03T16:16:54.228315Z",
     "shell.execute_reply": "2023-04-03T16:16:54.227093Z",
     "shell.execute_reply.started": "2023-04-03T16:16:54.179732Z"
    },
    "scrolled": false
   },
   "outputs": [
    {
     "data": {
      "text/markdown": [
       "**Modus dari fixed acidity:**"
      ],
      "text/plain": [
       "<IPython.core.display.Markdown object>"
      ]
     },
     "metadata": {},
     "output_type": "display_data"
    },
    {
     "data": {
      "text/html": [
       "<div>\n",
       "<style scoped>\n",
       "    .dataframe tbody tr th:only-of-type {\n",
       "        vertical-align: middle;\n",
       "    }\n",
       "\n",
       "    .dataframe tbody tr th {\n",
       "        vertical-align: top;\n",
       "    }\n",
       "\n",
       "    .dataframe thead th {\n",
       "        text-align: right;\n",
       "    }\n",
       "</style>\n",
       "<table border=\"1\" class=\"dataframe\">\n",
       "  <thead>\n",
       "    <tr style=\"text-align: right;\">\n",
       "      <th></th>\n",
       "      <th>0</th>\n",
       "    </tr>\n",
       "  </thead>\n",
       "  <tbody>\n",
       "    <tr>\n",
       "      <th>0</th>\n",
       "      <td>6.54</td>\n",
       "    </tr>\n",
       "  </tbody>\n",
       "</table>\n",
       "</div>"
      ],
      "text/plain": [
       "      0\n",
       "0  6.54"
      ]
     },
     "metadata": {},
     "output_type": "display_data"
    },
    {
     "data": {
      "text/markdown": [
       "**Modus dari volatile acidity:**"
      ],
      "text/plain": [
       "<IPython.core.display.Markdown object>"
      ]
     },
     "metadata": {},
     "output_type": "display_data"
    },
    {
     "data": {
      "text/html": [
       "<div>\n",
       "<style scoped>\n",
       "    .dataframe tbody tr th:only-of-type {\n",
       "        vertical-align: middle;\n",
       "    }\n",
       "\n",
       "    .dataframe tbody tr th {\n",
       "        vertical-align: top;\n",
       "    }\n",
       "\n",
       "    .dataframe thead th {\n",
       "        text-align: right;\n",
       "    }\n",
       "</style>\n",
       "<table border=\"1\" class=\"dataframe\">\n",
       "  <thead>\n",
       "    <tr style=\"text-align: right;\">\n",
       "      <th></th>\n",
       "      <th>0</th>\n",
       "    </tr>\n",
       "  </thead>\n",
       "  <tbody>\n",
       "    <tr>\n",
       "      <th>0</th>\n",
       "      <td>0.5546</td>\n",
       "    </tr>\n",
       "  </tbody>\n",
       "</table>\n",
       "</div>"
      ],
      "text/plain": [
       "        0\n",
       "0  0.5546"
      ]
     },
     "metadata": {},
     "output_type": "display_data"
    },
    {
     "data": {
      "text/markdown": [
       "**Modus dari citric acid:**"
      ],
      "text/plain": [
       "<IPython.core.display.Markdown object>"
      ]
     },
     "metadata": {},
     "output_type": "display_data"
    },
    {
     "data": {
      "text/html": [
       "<div>\n",
       "<style scoped>\n",
       "    .dataframe tbody tr th:only-of-type {\n",
       "        vertical-align: middle;\n",
       "    }\n",
       "\n",
       "    .dataframe tbody tr th {\n",
       "        vertical-align: top;\n",
       "    }\n",
       "\n",
       "    .dataframe thead th {\n",
       "        text-align: right;\n",
       "    }\n",
       "</style>\n",
       "<table border=\"1\" class=\"dataframe\">\n",
       "  <thead>\n",
       "    <tr style=\"text-align: right;\">\n",
       "      <th></th>\n",
       "      <th>0</th>\n",
       "    </tr>\n",
       "  </thead>\n",
       "  <tbody>\n",
       "    <tr>\n",
       "      <th>0</th>\n",
       "      <td>0.3019</td>\n",
       "    </tr>\n",
       "  </tbody>\n",
       "</table>\n",
       "</div>"
      ],
      "text/plain": [
       "        0\n",
       "0  0.3019"
      ]
     },
     "metadata": {},
     "output_type": "display_data"
    },
    {
     "data": {
      "text/markdown": [
       "**Modus dari residual sugar:**"
      ],
      "text/plain": [
       "<IPython.core.display.Markdown object>"
      ]
     },
     "metadata": {},
     "output_type": "display_data"
    },
    {
     "data": {
      "text/html": [
       "<div>\n",
       "<style scoped>\n",
       "    .dataframe tbody tr th:only-of-type {\n",
       "        vertical-align: middle;\n",
       "    }\n",
       "\n",
       "    .dataframe tbody tr th {\n",
       "        vertical-align: top;\n",
       "    }\n",
       "\n",
       "    .dataframe thead th {\n",
       "        text-align: right;\n",
       "    }\n",
       "</style>\n",
       "<table border=\"1\" class=\"dataframe\">\n",
       "  <thead>\n",
       "    <tr style=\"text-align: right;\">\n",
       "      <th></th>\n",
       "      <th>0</th>\n",
       "    </tr>\n",
       "  </thead>\n",
       "  <tbody>\n",
       "    <tr>\n",
       "      <th>0</th>\n",
       "      <td>0.032555</td>\n",
       "    </tr>\n",
       "    <tr>\n",
       "      <th>1</th>\n",
       "      <td>0.033333</td>\n",
       "    </tr>\n",
       "    <tr>\n",
       "      <th>2</th>\n",
       "      <td>0.051774</td>\n",
       "    </tr>\n",
       "    <tr>\n",
       "      <th>3</th>\n",
       "      <td>0.077156</td>\n",
       "    </tr>\n",
       "    <tr>\n",
       "      <th>4</th>\n",
       "      <td>0.084744</td>\n",
       "    </tr>\n",
       "    <tr>\n",
       "      <th>...</th>\n",
       "      <td>...</td>\n",
       "    </tr>\n",
       "    <tr>\n",
       "      <th>995</th>\n",
       "      <td>5.210260</td>\n",
       "    </tr>\n",
       "    <tr>\n",
       "      <th>996</th>\n",
       "      <td>5.217429</td>\n",
       "    </tr>\n",
       "    <tr>\n",
       "      <th>997</th>\n",
       "      <td>5.252864</td>\n",
       "    </tr>\n",
       "    <tr>\n",
       "      <th>998</th>\n",
       "      <td>5.299524</td>\n",
       "    </tr>\n",
       "    <tr>\n",
       "      <th>999</th>\n",
       "      <td>5.550755</td>\n",
       "    </tr>\n",
       "  </tbody>\n",
       "</table>\n",
       "<p>1000 rows × 1 columns</p>\n",
       "</div>"
      ],
      "text/plain": [
       "            0\n",
       "0    0.032555\n",
       "1    0.033333\n",
       "2    0.051774\n",
       "3    0.077156\n",
       "4    0.084744\n",
       "..        ...\n",
       "995  5.210260\n",
       "996  5.217429\n",
       "997  5.252864\n",
       "998  5.299524\n",
       "999  5.550755\n",
       "\n",
       "[1000 rows x 1 columns]"
      ]
     },
     "metadata": {},
     "output_type": "display_data"
    },
    {
     "data": {
      "text/markdown": [
       "**Modus dari chlorides:**"
      ],
      "text/plain": [
       "<IPython.core.display.Markdown object>"
      ]
     },
     "metadata": {},
     "output_type": "display_data"
    },
    {
     "data": {
      "text/html": [
       "<div>\n",
       "<style scoped>\n",
       "    .dataframe tbody tr th:only-of-type {\n",
       "        vertical-align: middle;\n",
       "    }\n",
       "\n",
       "    .dataframe tbody tr th {\n",
       "        vertical-align: top;\n",
       "    }\n",
       "\n",
       "    .dataframe thead th {\n",
       "        text-align: right;\n",
       "    }\n",
       "</style>\n",
       "<table border=\"1\" class=\"dataframe\">\n",
       "  <thead>\n",
       "    <tr style=\"text-align: right;\">\n",
       "      <th></th>\n",
       "      <th>0</th>\n",
       "    </tr>\n",
       "  </thead>\n",
       "  <tbody>\n",
       "    <tr>\n",
       "      <th>0</th>\n",
       "      <td>0.015122</td>\n",
       "    </tr>\n",
       "    <tr>\n",
       "      <th>1</th>\n",
       "      <td>0.020794</td>\n",
       "    </tr>\n",
       "    <tr>\n",
       "      <th>2</th>\n",
       "      <td>0.024259</td>\n",
       "    </tr>\n",
       "    <tr>\n",
       "      <th>3</th>\n",
       "      <td>0.027209</td>\n",
       "    </tr>\n",
       "    <tr>\n",
       "      <th>4</th>\n",
       "      <td>0.032111</td>\n",
       "    </tr>\n",
       "    <tr>\n",
       "      <th>...</th>\n",
       "      <td>...</td>\n",
       "    </tr>\n",
       "    <tr>\n",
       "      <th>995</th>\n",
       "      <td>0.131425</td>\n",
       "    </tr>\n",
       "    <tr>\n",
       "      <th>996</th>\n",
       "      <td>0.133656</td>\n",
       "    </tr>\n",
       "    <tr>\n",
       "      <th>997</th>\n",
       "      <td>0.135368</td>\n",
       "    </tr>\n",
       "    <tr>\n",
       "      <th>998</th>\n",
       "      <td>0.135790</td>\n",
       "    </tr>\n",
       "    <tr>\n",
       "      <th>999</th>\n",
       "      <td>0.140758</td>\n",
       "    </tr>\n",
       "  </tbody>\n",
       "</table>\n",
       "<p>1000 rows × 1 columns</p>\n",
       "</div>"
      ],
      "text/plain": [
       "            0\n",
       "0    0.015122\n",
       "1    0.020794\n",
       "2    0.024259\n",
       "3    0.027209\n",
       "4    0.032111\n",
       "..        ...\n",
       "995  0.131425\n",
       "996  0.133656\n",
       "997  0.135368\n",
       "998  0.135790\n",
       "999  0.140758\n",
       "\n",
       "[1000 rows x 1 columns]"
      ]
     },
     "metadata": {},
     "output_type": "display_data"
    },
    {
     "data": {
      "text/markdown": [
       "**Modus dari free sulfur dioxide:**"
      ],
      "text/plain": [
       "<IPython.core.display.Markdown object>"
      ]
     },
     "metadata": {},
     "output_type": "display_data"
    },
    {
     "data": {
      "text/html": [
       "<div>\n",
       "<style scoped>\n",
       "    .dataframe tbody tr th:only-of-type {\n",
       "        vertical-align: middle;\n",
       "    }\n",
       "\n",
       "    .dataframe tbody tr th {\n",
       "        vertical-align: top;\n",
       "    }\n",
       "\n",
       "    .dataframe thead th {\n",
       "        text-align: right;\n",
       "    }\n",
       "</style>\n",
       "<table border=\"1\" class=\"dataframe\">\n",
       "  <thead>\n",
       "    <tr style=\"text-align: right;\">\n",
       "      <th></th>\n",
       "      <th>0</th>\n",
       "    </tr>\n",
       "  </thead>\n",
       "  <tbody>\n",
       "    <tr>\n",
       "      <th>0</th>\n",
       "      <td>0.194679</td>\n",
       "    </tr>\n",
       "    <tr>\n",
       "      <th>1</th>\n",
       "      <td>0.621628</td>\n",
       "    </tr>\n",
       "    <tr>\n",
       "      <th>2</th>\n",
       "      <td>0.860177</td>\n",
       "    </tr>\n",
       "    <tr>\n",
       "      <th>3</th>\n",
       "      <td>3.032139</td>\n",
       "    </tr>\n",
       "    <tr>\n",
       "      <th>4</th>\n",
       "      <td>3.129885</td>\n",
       "    </tr>\n",
       "    <tr>\n",
       "      <th>...</th>\n",
       "      <td>...</td>\n",
       "    </tr>\n",
       "    <tr>\n",
       "      <th>995</th>\n",
       "      <td>26.630490</td>\n",
       "    </tr>\n",
       "    <tr>\n",
       "      <th>996</th>\n",
       "      <td>26.665773</td>\n",
       "    </tr>\n",
       "    <tr>\n",
       "      <th>997</th>\n",
       "      <td>26.822626</td>\n",
       "    </tr>\n",
       "    <tr>\n",
       "      <th>998</th>\n",
       "      <td>27.006307</td>\n",
       "    </tr>\n",
       "    <tr>\n",
       "      <th>999</th>\n",
       "      <td>27.462525</td>\n",
       "    </tr>\n",
       "  </tbody>\n",
       "</table>\n",
       "<p>1000 rows × 1 columns</p>\n",
       "</div>"
      ],
      "text/plain": [
       "             0\n",
       "0     0.194679\n",
       "1     0.621628\n",
       "2     0.860177\n",
       "3     3.032139\n",
       "4     3.129885\n",
       "..         ...\n",
       "995  26.630490\n",
       "996  26.665773\n",
       "997  26.822626\n",
       "998  27.006307\n",
       "999  27.462525\n",
       "\n",
       "[1000 rows x 1 columns]"
      ]
     },
     "metadata": {},
     "output_type": "display_data"
    },
    {
     "data": {
      "text/markdown": [
       "**Modus dari total sulfur dioxide:**"
      ],
      "text/plain": [
       "<IPython.core.display.Markdown object>"
      ]
     },
     "metadata": {},
     "output_type": "display_data"
    },
    {
     "data": {
      "text/html": [
       "<div>\n",
       "<style scoped>\n",
       "    .dataframe tbody tr th:only-of-type {\n",
       "        vertical-align: middle;\n",
       "    }\n",
       "\n",
       "    .dataframe tbody tr th {\n",
       "        vertical-align: top;\n",
       "    }\n",
       "\n",
       "    .dataframe thead th {\n",
       "        text-align: right;\n",
       "    }\n",
       "</style>\n",
       "<table border=\"1\" class=\"dataframe\">\n",
       "  <thead>\n",
       "    <tr style=\"text-align: right;\">\n",
       "      <th></th>\n",
       "      <th>0</th>\n",
       "    </tr>\n",
       "  </thead>\n",
       "  <tbody>\n",
       "    <tr>\n",
       "      <th>0</th>\n",
       "      <td>35.20</td>\n",
       "    </tr>\n",
       "    <tr>\n",
       "      <th>1</th>\n",
       "      <td>37.25</td>\n",
       "    </tr>\n",
       "    <tr>\n",
       "      <th>2</th>\n",
       "      <td>39.64</td>\n",
       "    </tr>\n",
       "    <tr>\n",
       "      <th>3</th>\n",
       "      <td>40.61</td>\n",
       "    </tr>\n",
       "    <tr>\n",
       "      <th>4</th>\n",
       "      <td>41.05</td>\n",
       "    </tr>\n",
       "    <tr>\n",
       "      <th>5</th>\n",
       "      <td>41.59</td>\n",
       "    </tr>\n",
       "    <tr>\n",
       "      <th>6</th>\n",
       "      <td>44.51</td>\n",
       "    </tr>\n",
       "  </tbody>\n",
       "</table>\n",
       "</div>"
      ],
      "text/plain": [
       "       0\n",
       "0  35.20\n",
       "1  37.25\n",
       "2  39.64\n",
       "3  40.61\n",
       "4  41.05\n",
       "5  41.59\n",
       "6  44.51"
      ]
     },
     "metadata": {},
     "output_type": "display_data"
    },
    {
     "data": {
      "text/markdown": [
       "**Modus dari density:**"
      ],
      "text/plain": [
       "<IPython.core.display.Markdown object>"
      ]
     },
     "metadata": {},
     "output_type": "display_data"
    },
    {
     "data": {
      "text/html": [
       "<div>\n",
       "<style scoped>\n",
       "    .dataframe tbody tr th:only-of-type {\n",
       "        vertical-align: middle;\n",
       "    }\n",
       "\n",
       "    .dataframe tbody tr th {\n",
       "        vertical-align: top;\n",
       "    }\n",
       "\n",
       "    .dataframe thead th {\n",
       "        text-align: right;\n",
       "    }\n",
       "</style>\n",
       "<table border=\"1\" class=\"dataframe\">\n",
       "  <thead>\n",
       "    <tr style=\"text-align: right;\">\n",
       "      <th></th>\n",
       "      <th>0</th>\n",
       "    </tr>\n",
       "  </thead>\n",
       "  <tbody>\n",
       "    <tr>\n",
       "      <th>0</th>\n",
       "      <td>0.9959</td>\n",
       "    </tr>\n",
       "    <tr>\n",
       "      <th>1</th>\n",
       "      <td>0.9961</td>\n",
       "    </tr>\n",
       "    <tr>\n",
       "      <th>2</th>\n",
       "      <td>0.9965</td>\n",
       "    </tr>\n",
       "    <tr>\n",
       "      <th>3</th>\n",
       "      <td>0.9970</td>\n",
       "    </tr>\n",
       "  </tbody>\n",
       "</table>\n",
       "</div>"
      ],
      "text/plain": [
       "        0\n",
       "0  0.9959\n",
       "1  0.9961\n",
       "2  0.9965\n",
       "3  0.9970"
      ]
     },
     "metadata": {},
     "output_type": "display_data"
    },
    {
     "data": {
      "text/markdown": [
       "**Modus dari pH:**"
      ],
      "text/plain": [
       "<IPython.core.display.Markdown object>"
      ]
     },
     "metadata": {},
     "output_type": "display_data"
    },
    {
     "data": {
      "text/html": [
       "<div>\n",
       "<style scoped>\n",
       "    .dataframe tbody tr th:only-of-type {\n",
       "        vertical-align: middle;\n",
       "    }\n",
       "\n",
       "    .dataframe tbody tr th {\n",
       "        vertical-align: top;\n",
       "    }\n",
       "\n",
       "    .dataframe thead th {\n",
       "        text-align: right;\n",
       "    }\n",
       "</style>\n",
       "<table border=\"1\" class=\"dataframe\">\n",
       "  <thead>\n",
       "    <tr style=\"text-align: right;\">\n",
       "      <th></th>\n",
       "      <th>0</th>\n",
       "    </tr>\n",
       "  </thead>\n",
       "  <tbody>\n",
       "    <tr>\n",
       "      <th>0</th>\n",
       "      <td>3.34</td>\n",
       "    </tr>\n",
       "  </tbody>\n",
       "</table>\n",
       "</div>"
      ],
      "text/plain": [
       "      0\n",
       "0  3.34"
      ]
     },
     "metadata": {},
     "output_type": "display_data"
    },
    {
     "data": {
      "text/markdown": [
       "**Modus dari sulphates:**"
      ],
      "text/plain": [
       "<IPython.core.display.Markdown object>"
      ]
     },
     "metadata": {},
     "output_type": "display_data"
    },
    {
     "data": {
      "text/html": [
       "<div>\n",
       "<style scoped>\n",
       "    .dataframe tbody tr th:only-of-type {\n",
       "        vertical-align: middle;\n",
       "    }\n",
       "\n",
       "    .dataframe tbody tr th {\n",
       "        vertical-align: top;\n",
       "    }\n",
       "\n",
       "    .dataframe thead th {\n",
       "        text-align: right;\n",
       "    }\n",
       "</style>\n",
       "<table border=\"1\" class=\"dataframe\">\n",
       "  <thead>\n",
       "    <tr style=\"text-align: right;\">\n",
       "      <th></th>\n",
       "      <th>0</th>\n",
       "    </tr>\n",
       "  </thead>\n",
       "  <tbody>\n",
       "    <tr>\n",
       "      <th>0</th>\n",
       "      <td>0.59</td>\n",
       "    </tr>\n",
       "  </tbody>\n",
       "</table>\n",
       "</div>"
      ],
      "text/plain": [
       "      0\n",
       "0  0.59"
      ]
     },
     "metadata": {},
     "output_type": "display_data"
    },
    {
     "data": {
      "text/markdown": [
       "**Modus dari alcohol:**"
      ],
      "text/plain": [
       "<IPython.core.display.Markdown object>"
      ]
     },
     "metadata": {},
     "output_type": "display_data"
    },
    {
     "data": {
      "text/html": [
       "<div>\n",
       "<style scoped>\n",
       "    .dataframe tbody tr th:only-of-type {\n",
       "        vertical-align: middle;\n",
       "    }\n",
       "\n",
       "    .dataframe tbody tr th {\n",
       "        vertical-align: top;\n",
       "    }\n",
       "\n",
       "    .dataframe thead th {\n",
       "        text-align: right;\n",
       "    }\n",
       "</style>\n",
       "<table border=\"1\" class=\"dataframe\">\n",
       "  <thead>\n",
       "    <tr style=\"text-align: right;\">\n",
       "      <th></th>\n",
       "      <th>0</th>\n",
       "    </tr>\n",
       "  </thead>\n",
       "  <tbody>\n",
       "    <tr>\n",
       "      <th>0</th>\n",
       "      <td>9.86</td>\n",
       "    </tr>\n",
       "    <tr>\n",
       "      <th>1</th>\n",
       "      <td>10.31</td>\n",
       "    </tr>\n",
       "  </tbody>\n",
       "</table>\n",
       "</div>"
      ],
      "text/plain": [
       "       0\n",
       "0   9.86\n",
       "1  10.31"
      ]
     },
     "metadata": {},
     "output_type": "display_data"
    },
    {
     "data": {
      "text/markdown": [
       "**Modus dari quality:**"
      ],
      "text/plain": [
       "<IPython.core.display.Markdown object>"
      ]
     },
     "metadata": {},
     "output_type": "display_data"
    },
    {
     "data": {
      "text/html": [
       "<div>\n",
       "<style scoped>\n",
       "    .dataframe tbody tr th:only-of-type {\n",
       "        vertical-align: middle;\n",
       "    }\n",
       "\n",
       "    .dataframe tbody tr th {\n",
       "        vertical-align: top;\n",
       "    }\n",
       "\n",
       "    .dataframe thead th {\n",
       "        text-align: right;\n",
       "    }\n",
       "</style>\n",
       "<table border=\"1\" class=\"dataframe\">\n",
       "  <thead>\n",
       "    <tr style=\"text-align: right;\">\n",
       "      <th></th>\n",
       "      <th>0</th>\n",
       "    </tr>\n",
       "  </thead>\n",
       "  <tbody>\n",
       "    <tr>\n",
       "      <th>0</th>\n",
       "      <td>8</td>\n",
       "    </tr>\n",
       "  </tbody>\n",
       "</table>\n",
       "</div>"
      ],
      "text/plain": [
       "   0\n",
       "0  8"
      ]
     },
     "metadata": {},
     "output_type": "display_data"
    }
   ],
   "source": [
    "# Mode\n",
    "df['fixed acidity'].mode()\n",
    "\n",
    "for cols in df:\n",
    "    temp = \"Modus dari \" + cols + \":\"\n",
    "    display(Markdown(f\"**{temp}**\"))\n",
    "    modus = []\n",
    "    for i in df[cols].mode():\n",
    "        modus.append(i)\n",
    "    display(pd.DataFrame(modus))"
   ]
  },
  {
   "cell_type": "markdown",
   "metadata": {},
   "source": [
    "***"
   ]
  },
  {
   "cell_type": "markdown",
   "metadata": {},
   "source": [
    "# SOAL 2"
   ]
  },
  {
   "cell_type": "markdown",
   "metadata": {},
   "source": [
    "Membuat Visualisasi plot distribusi, dalam bentuk histogram dan boxplot untuk setiap kolom numerik. Berikan uraian penjelasan kondisi setiap kolom berdasarkan kedua plot tersebut."
   ]
  },
  {
   "cell_type": "markdown",
   "metadata": {},
   "source": [
    "## Kolom \"fixed acidity\" "
   ]
  },
  {
   "cell_type": "code",
   "execution_count": 15,
   "metadata": {
    "execution": {
     "iopub.execute_input": "2023-04-03T19:08:23.452644Z",
     "iopub.status.busy": "2023-04-03T19:08:23.452178Z",
     "iopub.status.idle": "2023-04-03T19:08:23.829914Z",
     "shell.execute_reply": "2023-04-03T19:08:23.828875Z",
     "shell.execute_reply.started": "2023-04-03T19:08:23.452603Z"
    }
   },
   "outputs": [
    {
     "data": {
      "text/plain": [
       "<Figure size 700x600 with 0 Axes>"
      ]
     },
     "metadata": {},
     "output_type": "display_data"
    },
    {
     "data": {
      "image/png": "[encoded data removed]",
      "text/plain": [
       "<Figure size 640x480 with 2 Axes>"
      ]
     },
     "metadata": {},
     "output_type": "display_data"
    }
   ],
   "source": [
    "var = df['fixed acidity']\n",
    "plt.figure(figsize=(7,6))\n",
    "fig,ax = plt.subplots(1,2)\n",
    "# df[var].hist(ax = ax[0]) matplotlib\n",
    "sns.histplot(var, ax=ax[0])\n",
    "ax[0].set_title(\"Histogram fixed acidity\")\n",
    "ax[1].set_title(\"Boxplot fixed acidity\")\n",
    "# df.boxplot(var,ax=ax[1]) matplotlib\n",
    "sns.boxplot(var,ax=ax[1])\n",
    "plt.show()"
   ]
  },
  {
   "cell_type": "markdown",
   "metadata": {
    "execution": {
     "iopub.execute_input": "2023-04-03T18:56:52.665229Z",
     "iopub.status.busy": "2023-04-03T18:56:52.664746Z",
     "iopub.status.idle": "2023-04-03T18:56:52.673319Z",
     "shell.execute_reply": "2023-04-03T18:56:52.671787Z",
     "shell.execute_reply.started": "2023-04-03T18:56:52.665184Z"
    }
   },
   "source": [
    "Dari histogram tersebut dapat dilihat bahwa persebaran data untuk kolom fixed acidity cenderung terdistribusi secara merata apabila dilihat dari grafik yang berbentuk simetris seperti lonceng dan titik tertinggi berada di bagian tengah dari data dan rata-rata data yang ada di angka 7.15.\n",
    "\n",
    "Grafik Box Plot juga menunjukkan data yang cenderung **terdistribusi normal** yang ditunjukkan dari interquartile range yang berada di tengah nilai minimum dan maksimum. Dari box plot juga dapat dilihat terdapat beberapa data outlier yaitu data yang berada diluar batas atas dan batas bawah. Terdapat 3 data yang berada di bawah batas bawah dan 3 data berada diatas batas atas."
   ]
  },
  {
   "cell_type": "markdown",
   "metadata": {},
   "source": [
    "## Kolom \"folatile acidity\" "
   ]
  },
  {
   "cell_type": "code",
   "execution_count": 16,
   "metadata": {
    "execution": {
     "iopub.execute_input": "2023-04-03T19:09:06.937123Z",
     "iopub.status.busy": "2023-04-03T19:09:06.936683Z",
     "iopub.status.idle": "2023-04-03T19:09:07.292954Z",
     "shell.execute_reply": "2023-04-03T19:09:07.291712Z",
     "shell.execute_reply.started": "2023-04-03T19:09:06.937077Z"
    }
   },
   "outputs": [
    {
     "data": {
      "text/plain": [
       "<Figure size 700x600 with 0 Axes>"
      ]
     },
     "metadata": {},
     "output_type": "display_data"
    },
    {
     "data": {
      "image/png": "[encoded data removed]",
      "text/plain": [
       "<Figure size 640x480 with 2 Axes>"
      ]
     },
     "metadata": {},
     "output_type": "display_data"
    }
   ],
   "source": [
    "var = df['volatile acidity']\n",
    "plt.figure(figsize=(7,6))\n",
    "fig,ax = plt.subplots(1,2)\n",
    "# df[var].hist(ax = ax[0]) matplotlib\n",
    "sns.histplot(var, ax=ax[0])\n",
    "ax[0].set_title(\"Histogram volatile acidity\")\n",
    "ax[1].set_title(\"Boxplot volatile acidity\")\n",
    "# df.boxplot(var,ax=ax[1]) matplotlib\n",
    "sns.boxplot(var,ax=ax[1])\n",
    "plt.show()"
   ]
  },
  {
   "cell_type": "markdown",
   "metadata": {},
   "source": [
    "Dari histogram tersebut dapat dilihat bahwa persebaran data untuk kolom folatile acidity memiliki persebaran paling banyak pada nilai di sekitar 0.5. Grafik Histogram terlihat simetris dengan persebaran yang cukup merata.\n",
    "\n",
    "Grafik Box Plot juga menunjukkan data outlier yaitu data yang berada diluar batas atas dan batas bawah. Terdapat 6 data yang berada di bawah batas bawah dan 1 data berada diatas batas atas."
   ]
  },
  {
   "cell_type": "markdown",
   "metadata": {},
   "source": [
    "## Kolom \"citric acid\" "
   ]
  },
  {
   "cell_type": "code",
   "execution_count": 17,
   "metadata": {
    "execution": {
     "iopub.execute_input": "2023-04-03T19:10:35.573934Z",
     "iopub.status.busy": "2023-04-03T19:10:35.573349Z",
     "iopub.status.idle": "2023-04-03T19:10:35.938546Z",
     "shell.execute_reply": "2023-04-03T19:10:35.936786Z",
     "shell.execute_reply.started": "2023-04-03T19:10:35.573886Z"
    }
   },
   "outputs": [
    {
     "data": {
      "text/plain": [
       "<Figure size 700x600 with 0 Axes>"
      ]
     },
     "metadata": {},
     "output_type": "display_data"
    },
    {
     "data": {
      "image/png": "[encoded data removed]",
      "text/plain": [
       "<Figure size 640x480 with 2 Axes>"
      ]
     },
     "metadata": {},
     "output_type": "display_data"
    }
   ],
   "source": [
    "var = df['citric acid']\n",
    "plt.figure(figsize=(7,6))\n",
    "fig,ax = plt.subplots(1,2)\n",
    "# df[var].hist(ax = ax[0]) matplotlib\n",
    "sns.histplot(var, ax=ax[0])\n",
    "ax[0].set_title(\"Histogram citric acid\")\n",
    "ax[1].set_title(\"Boxplot citric acid\")\n",
    "# df.boxplot(var,ax=ax[1]) matplotlib\n",
    "sns.boxplot(var,ax=ax[1])\n",
    "plt.show()"
   ]
  },
  {
   "cell_type": "markdown",
   "metadata": {},
   "source": [
    "Dari histogram tersebut dapat dilihat bahwa persebaran data untuk kolom citric acid **terdistribusi normal**, apabila dilihat dari grafik yang berbentuk simetris seperti lonceng dan titik tertinggi berada di bagian tengah dari data dan rata-rata data yang ada di angka 0.27. Distribusi normal juga dapat dilihat dari kurva bagian samping yang memiliki frekuensi lebih sedikit dibanding dengan bagian tengah.\n",
    "\n",
    "Grafik Box Plot juga menunjukkan data yang **terdistribusi normal** yang ditunjukkan dari interquartile range yang berada di tengah nilai minimum dan maksimum. Dari box plot juga dapat dilihat terdapat beberapa data outlier yaitu data yang berada diluar batas atas dan batas bawah. Terdapat 4 data yang berada di bawah batas bawah dan 2 data berada diatas batas atas."
   ]
  },
  {
   "cell_type": "markdown",
   "metadata": {},
   "source": [
    "## Kolom \"residual sugar\" "
   ]
  },
  {
   "cell_type": "code",
   "execution_count": 18,
   "metadata": {
    "execution": {
     "iopub.execute_input": "2023-04-03T19:12:33.676278Z",
     "iopub.status.busy": "2023-04-03T19:12:33.675788Z",
     "iopub.status.idle": "2023-04-03T19:12:33.980682Z",
     "shell.execute_reply": "2023-04-03T19:12:33.979016Z",
     "shell.execute_reply.started": "2023-04-03T19:12:33.676230Z"
    }
   },
   "outputs": [
    {
     "data": {
      "text/plain": [
       "<Figure size 700x600 with 0 Axes>"
      ]
     },
     "metadata": {},
     "output_type": "display_data"
    },
    {
     "data": {
      "image/png": "[encoded data removed]",
      "text/plain": [
       "<Figure size 640x480 with 2 Axes>"
      ]
     },
     "metadata": {},
     "output_type": "display_data"
    }
   ],
   "source": [
    "var = df['residual sugar']\n",
    "plt.figure(figsize=(7,6))\n",
    "fig,ax = plt.subplots(1,2)\n",
    "# df[var].hist(ax = ax[0]) matplotlib\n",
    "sns.histplot(var, ax=ax[0])\n",
    "ax[0].set_title(\"Histogram residual sugar\")\n",
    "ax[1].set_title(\"Boxplot residual sugar\")\n",
    "# df.boxplot(var,ax=ax[1]) matplotlib\n",
    "sns.boxplot(var,ax=ax[1])\n",
    "plt.show()"
   ]
  },
  {
   "cell_type": "markdown",
   "metadata": {},
   "source": [
    "Dari histogram tersebut dapat dilihat bahwa persebaran data untuk kolom residual sugar **terdistribusi normal**, apabila dilihat dari grafik yang berbentuk simetris seperti lonceng dan titik tertinggi berada di bagian tengah dari data dan rata-rata data yang ada di angka 2.57. Distribusi normal juga dapat dilihat dari kurva bagian samping yang memiliki frekuensi lebih sedikit dibanding dengan bagian tengah.\n",
    "\n",
    "Grafik Box Plot juga menunjukkan data yang **terdistribusi normal** yang ditunjukkan dari *interquartile range* yang berada di tengah nilai minimum dan maksimum. Dari box plot juga dapat dilihat terdapat beberapa data outlier yaitu data yang berada diluar batas atas dan batas bawah. Terdapat beberapa data outlier yang memiliki nilai lebih dari batas atas."
   ]
  },
  {
   "cell_type": "markdown",
   "metadata": {},
   "source": [
    "## Kolom \"chlorides\" "
   ]
  },
  {
   "cell_type": "code",
   "execution_count": 19,
   "metadata": {
    "execution": {
     "iopub.execute_input": "2023-04-03T19:19:28.773593Z",
     "iopub.status.busy": "2023-04-03T19:19:28.773107Z",
     "iopub.status.idle": "2023-04-03T19:19:29.142666Z",
     "shell.execute_reply": "2023-04-03T19:19:29.141695Z",
     "shell.execute_reply.started": "2023-04-03T19:19:28.773551Z"
    },
    "scrolled": true
   },
   "outputs": [
    {
     "data": {
      "text/plain": [
       "<Figure size 700x600 with 0 Axes>"
      ]
     },
     "metadata": {},
     "output_type": "display_data"
    },
    {
     "data": {
      "image/png": "[encoded data removed]",
      "text/plain": [
       "<Figure size 640x480 with 2 Axes>"
      ]
     },
     "metadata": {},
     "output_type": "display_data"
    }
   ],
   "source": [
    "var = df['chlorides']\n",
    "plt.figure(figsize=(7,6))\n",
    "fig,ax = plt.subplots(1,2)\n",
    "# df[var].hist(ax = ax[0]) matplotlib\n",
    "sns.histplot(var, ax=ax[0])\n",
    "ax[0].set_title(\"Histogram chlorides\")\n",
    "ax[1].set_title(\"Boxplot chlorides\")\n",
    "# df.boxplot(var,ax=ax[1]) matplotlib\n",
    "sns.boxplot(var,ax=ax[1])\n",
    "plt.show()\n",
    "\n",
    "# # plot histogram\n",
    "# sns.histplot(var, kde=True)\n",
    "# plt.show()\n",
    "\n",
    "# plot QQ plot\n",
    "# probplot(var, dist=\"norm\", plot=plt)\n",
    "# plt.show()"
   ]
  },
  {
   "cell_type": "markdown",
   "metadata": {},
   "source": [
    "Dari histogram tersebut dapat dilihat bahwa persebaran data untuk kolom chlorides **terdistribusi normal**, apabila dilihat dari grafik yang berbentuk simetris seperti lonceng dan titik tertinggi berada di bagian tengah dari data dan rata-rata data yang ada di angka 0.08. Distribusi normal juga dapat dilihat dari kurva bagian samping yang memiliki frekuensi lebih sedikit dibanding dengan bagian tengah.\n",
    "\n",
    "Grafik Box Plot juga menunjukkan data yang **terdistribusi normal** yang ditunjukkan dari *interquartile range* yang berada di tengah nilai minimum dan maksimum. Dari box plot juga dapat dilihat terdapat beberapa data outlier yaitu data yang berada diluar batas atas dan batas bawah. Terdapat beberapa data outlier yang memiliki nilai lebih dari batas atas yaitu 1 data dan terdapat pula 2 data kurang dari batas bawah."
   ]
  },
  {
   "cell_type": "markdown",
   "metadata": {},
   "source": [
    "## Kolom \"free sulfur dioxide\" "
   ]
  },
  {
   "cell_type": "code",
   "execution_count": 20,
   "metadata": {
    "execution": {
     "iopub.execute_input": "2023-04-03T19:22:59.578317Z",
     "iopub.status.busy": "2023-04-03T19:22:59.577901Z",
     "iopub.status.idle": "2023-04-03T19:22:59.923115Z",
     "shell.execute_reply": "2023-04-03T19:22:59.921355Z",
     "shell.execute_reply.started": "2023-04-03T19:22:59.578281Z"
    }
   },
   "outputs": [
    {
     "data": {
      "text/plain": [
       "<Figure size 700x600 with 0 Axes>"
      ]
     },
     "metadata": {},
     "output_type": "display_data"
    },
    {
     "data": {
      "image/png": "[encoded data removed]",
      "text/plain": [
       "<Figure size 640x480 with 2 Axes>"
      ]
     },
     "metadata": {},
     "output_type": "display_data"
    }
   ],
   "source": [
    "var = df['free sulfur dioxide']\n",
    "plt.figure(figsize=(7,6))\n",
    "fig,ax = plt.subplots(1,2)\n",
    "# df[var].hist(ax = ax[0]) matplotlib\n",
    "sns.histplot(var, ax=ax[0])\n",
    "ax[0].set_title(\"Histogram free sulfur dioxide\")\n",
    "ax[1].set_title(\"Boxplot free sulfur dioxide\")\n",
    "# df.boxplot(var,ax=ax[1]) matplotlib\n",
    "sns.boxplot(var,ax=ax[1])\n",
    "plt.show()\n",
    "\n",
    "# probplot(var, dist=\"norm\", plot=plt)\n",
    "# plt.show()"
   ]
  },
  {
   "cell_type": "markdown",
   "metadata": {},
   "source": [
    "Grafik Box Plot juga menunjukkan data yang cukup merata yang ditunjukkan dari *interquartile range* yang berada di tengah nilai minimum dan maksimum. Dari box plot juga dapat dilihat terdapat beberapa data outlier yaitu data yang berada diluar batas atas dan batas bawah. Terdapat beberapa data outlier yang memiliki nilai kurang dari batas bawah.\n",
    "\n",
    "Dari histogram tersebut dapat dilihat bahwa persebaran data untuk kolom free sulfur dioxide memiliki persebaran paling banyak pada nilai di sekitar 14.9. Grafik Histogram terlihat cukup simetris dengan persebaran yang cukup merata.\n",
    "\n",
    "Grafik Box Plot juga menunjukkan data outlier yaitu data yang berada diluar batas atas dan batas bawah. Terdapat 6 data yang berada di bawah batas bawah dan 1 data berada diatas batas atas."
   ]
  },
  {
   "cell_type": "markdown",
   "metadata": {},
   "source": [
    "## Kolom \"total sulfur dioxide\" "
   ]
  },
  {
   "cell_type": "code",
   "execution_count": 21,
   "metadata": {
    "execution": {
     "iopub.execute_input": "2023-04-03T19:24:43.367495Z",
     "iopub.status.busy": "2023-04-03T19:24:43.366957Z",
     "iopub.status.idle": "2023-04-03T19:24:43.742964Z",
     "shell.execute_reply": "2023-04-03T19:24:43.741549Z",
     "shell.execute_reply.started": "2023-04-03T19:24:43.367448Z"
    }
   },
   "outputs": [
    {
     "data": {
      "text/plain": [
       "<Figure size 700x600 with 0 Axes>"
      ]
     },
     "metadata": {},
     "output_type": "display_data"
    },
    {
     "data": {
      "image/png": "[encoded data removed]",
      "text/plain": [
       "<Figure size 640x480 with 2 Axes>"
      ]
     },
     "metadata": {},
     "output_type": "display_data"
    }
   ],
   "source": [
    "var = df['total sulfur dioxide']\n",
    "plt.figure(figsize=(7,6))\n",
    "fig,ax = plt.subplots(1,2)\n",
    "# df[var].hist(ax = ax[0]) matplotlib\n",
    "sns.histplot(var, ax=ax[0])\n",
    "ax[0].set_title(\"Histogram total sulfur dioxide\")\n",
    "ax[1].set_title(\"Boxplot total sulfur dioxide\")\n",
    "# df.boxplot(var,ax=ax[1]) matplotlib\n",
    "sns.boxplot(var,ax=ax[1])\n",
    "plt.show()"
   ]
  },
  {
   "cell_type": "markdown",
   "metadata": {},
   "source": [
    "Dari histogram tersebut dapat dilihat bahwa persebaran data untuk kolom total sulfur dioxide **terdistribusi normal**, apabila dilihat dari grafik yang berbentuk simetris seperti lonceng dan titik tertinggi berada di bagian tengah dari data dan rata-rata data yang ada di angka 40.29. Distribusi normal juga dapat dilihat dari kurva bagian samping yang memiliki frekuensi lebih sedikit dibanding dengan bagian tengah.\n",
    "\n",
    "Grafik Box Plot juga menunjukkan data yang **terdistribusi normal** yang ditunjukkan dari *interquartile range* yang berada di tengah nilai minimum dan maksimum. Dari box plot juga dapat dilihat terdapat beberapa data outlier yaitu data yang berada diluar batas atas dan batas bawah. Terdapat beberapa data outlier yang memiliki nilai kurang dari batas bawah dan lebih dari batas atas."
   ]
  },
  {
   "cell_type": "markdown",
   "metadata": {},
   "source": [
    "## Kolom \"density\" "
   ]
  },
  {
   "cell_type": "code",
   "execution_count": 22,
   "metadata": {
    "execution": {
     "iopub.execute_input": "2023-04-03T19:25:47.143108Z",
     "iopub.status.busy": "2023-04-03T19:25:47.142623Z",
     "iopub.status.idle": "2023-04-03T19:25:47.515919Z",
     "shell.execute_reply": "2023-04-03T19:25:47.514867Z",
     "shell.execute_reply.started": "2023-04-03T19:25:47.143069Z"
    }
   },
   "outputs": [
    {
     "data": {
      "text/plain": [
       "<Figure size 700x600 with 0 Axes>"
      ]
     },
     "metadata": {},
     "output_type": "display_data"
    },
    {
     "data": {
      "image/png": "[encoded data removed]",
      "text/plain": [
       "<Figure size 640x480 with 2 Axes>"
      ]
     },
     "metadata": {},
     "output_type": "display_data"
    }
   ],
   "source": [
    "var = df['density']\n",
    "plt.figure(figsize=(7,6))\n",
    "fig,ax = plt.subplots(1,2)\n",
    "# df[var].hist(ax = ax[0]) matplotlib\n",
    "sns.histplot(var, ax=ax[0])\n",
    "ax[0].set_title(\"Histogram density\")\n",
    "ax[1].set_title(\"Boxplot density\")\n",
    "# df.boxplot(var,ax=ax[1]) matplotlib\n",
    "sns.boxplot(var,ax=ax[1])\n",
    "plt.show()"
   ]
  },
  {
   "cell_type": "markdown",
   "metadata": {},
   "source": [
    "Dari histogram tersebut dapat dilihat bahwa persebaran data untuk kolom density **terdistribusi normal**, apabila dilihat dari grafik yang berbentuk simetris seperti lonceng dan titik tertinggi berada di bagian tengah dari data dan rata-rata data yang ada di angka 0.99. Distribusi normal juga dapat dilihat dari kurva bagian samping yang memiliki frekuensi lebih sedikit dibanding dengan bagian tengah.\n",
    "\n",
    "Grafik Box Plot juga menunjukkan data yang **terdistribusi normal** yang ditunjukkan dari *interquartile range* yang berada di tengah nilai minimum dan maksimum. Dari box plot juga dapat dilihat terdapat beberapa data outlier yaitu data yang berada diluar batas atas dan batas bawah. Terdapat beberapa data outlier yang memiliki nilai kurang dari batas bawah dan lebih dari batas atas."
   ]
  },
  {
   "cell_type": "markdown",
   "metadata": {},
   "source": [
    "## Kolom \"pH\" "
   ]
  },
  {
   "cell_type": "code",
   "execution_count": 23,
   "metadata": {
    "execution": {
     "iopub.execute_input": "2023-04-03T19:27:30.403876Z",
     "iopub.status.busy": "2023-04-03T19:27:30.403386Z",
     "iopub.status.idle": "2023-04-03T19:27:30.785427Z",
     "shell.execute_reply": "2023-04-03T19:27:30.784033Z",
     "shell.execute_reply.started": "2023-04-03T19:27:30.403834Z"
    }
   },
   "outputs": [
    {
     "data": {
      "text/plain": [
       "<Figure size 700x600 with 0 Axes>"
      ]
     },
     "metadata": {},
     "output_type": "display_data"
    },
    {
     "data": {
      "image/png": "[encoded data removed]",
      "text/plain": [
       "<Figure size 640x480 with 2 Axes>"
      ]
     },
     "metadata": {},
     "output_type": "display_data"
    }
   ],
   "source": [
    "var = df['pH']\n",
    "plt.figure(figsize=(7,6))\n",
    "fig,ax = plt.subplots(1,2)\n",
    "# df[var].hist(ax = ax[0]) matplotlib\n",
    "sns.histplot(var, ax=ax[0])\n",
    "ax[0].set_title(\"Histogram pH\")\n",
    "ax[1].set_title(\"Boxplot pH\")\n",
    "# df.boxplot(var,ax=ax[1]) matplotlib\n",
    "sns.boxplot(var,ax=ax[1])\n",
    "plt.show()"
   ]
  },
  {
   "cell_type": "markdown",
   "metadata": {},
   "source": [
    "Dari histogram tersebut dapat dilihat bahwa persebaran data untuk kolom pH **terdistribusi normal**, apabila dilihat dari grafik yang berbentuk simetris seperti lonceng dan titik tertinggi berada di bagian tengah dari data dan rata-rata data yang ada di angka 3.30. Distribusi normal juga dapat dilihat dari kurva bagian samping yang memiliki frekuensi lebih sedikit dibanding dengan bagian tengah.\n",
    "\n",
    "Grafik Box Plot juga menunjukkan data yang **terdistribusi normal** yang ditunjukkan dari *interquartile range* yang berada di tengah nilai minimum dan maksimum. Dari box plot juga dapat dilihat terdapat beberapa data outlier yaitu data yang berada diluar batas atas dan batas bawah. Terdapat 2 data outlier yang memiliki nilai kurang dari batas bawah dan 3 data yang memiliki nilai lebih dari batas atas."
   ]
  },
  {
   "cell_type": "markdown",
   "metadata": {},
   "source": [
    "## Kolom \"sulphates\" "
   ]
  },
  {
   "cell_type": "code",
   "execution_count": 24,
   "metadata": {
    "execution": {
     "iopub.execute_input": "2023-04-03T19:28:51.347160Z",
     "iopub.status.busy": "2023-04-03T19:28:51.346619Z",
     "iopub.status.idle": "2023-04-03T19:28:51.676276Z",
     "shell.execute_reply": "2023-04-03T19:28:51.674575Z",
     "shell.execute_reply.started": "2023-04-03T19:28:51.347112Z"
    }
   },
   "outputs": [
    {
     "data": {
      "text/plain": [
       "<Figure size 700x600 with 0 Axes>"
      ]
     },
     "metadata": {},
     "output_type": "display_data"
    },
    {
     "data": {
      "image/png": "[encoded data removed]",
      "text/plain": [
       "<Figure size 640x480 with 2 Axes>"
      ]
     },
     "metadata": {},
     "output_type": "display_data"
    }
   ],
   "source": [
    "var = df['sulphates']\n",
    "plt.figure(figsize=(7,6))\n",
    "fig,ax = plt.subplots(1,2)\n",
    "# df[var].hist(ax = ax[0]) matplotlib\n",
    "sns.histplot(var, ax=ax[0])\n",
    "ax[0].set_title(\"Histogram sulphates\")\n",
    "ax[1].set_title(\"Boxplot sulphates\")\n",
    "# df.boxplot(var,ax=ax[1]) matplotlib\n",
    "sns.boxplot(var,ax=ax[1])\n",
    "plt.show()"
   ]
  },
  {
   "cell_type": "markdown",
   "metadata": {},
   "source": [
    "Dari histogram tersebut dapat dilihat bahwa persebaran data untuk kolom sulphates **terdistribusi normal**, apabila dilihat dari grafik yang berbentuk simetris seperti lonceng dan titik tertinggi berada di bagian tengah dari data dan rata-rata data yang ada di angka 0.60. Distribusi normal juga dapat dilihat dari kurva bagian samping yang memiliki frekuensi lebih sedikit dibanding dengan bagian tengah.\n",
    "\n",
    "Grafik Box Plot juga menunjukkan data yang **terdistribusi normal** yang ditunjukkan dari *interquartile range* yang berada di tengah nilai minimum dan maksimum. Dari box plot juga dapat dilihat terdapat beberapa data outlier yaitu data yang berada diluar batas atas dan batas bawah. Terdapat 1 data outlier yang memiliki nilai kurang dari batas bawah dan 4 data yang memiliki nilai lebih dari batas atas."
   ]
  },
  {
   "cell_type": "markdown",
   "metadata": {},
   "source": [
    "## Kolom \"alcohol\" "
   ]
  },
  {
   "cell_type": "code",
   "execution_count": 25,
   "metadata": {
    "execution": {
     "iopub.execute_input": "2023-04-03T19:29:52.386897Z",
     "iopub.status.busy": "2023-04-03T19:29:52.386318Z",
     "iopub.status.idle": "2023-04-03T19:29:52.753548Z",
     "shell.execute_reply": "2023-04-03T19:29:52.752616Z",
     "shell.execute_reply.started": "2023-04-03T19:29:52.386847Z"
    }
   },
   "outputs": [
    {
     "data": {
      "text/plain": [
       "<Figure size 700x600 with 0 Axes>"
      ]
     },
     "metadata": {},
     "output_type": "display_data"
    },
    {
     "data": {
      "image/png": "[encoded data removed]",
      "text/plain": [
       "<Figure size 640x480 with 2 Axes>"
      ]
     },
     "metadata": {},
     "output_type": "display_data"
    }
   ],
   "source": [
    "var = df['alcohol']\n",
    "plt.figure(figsize=(7,6))\n",
    "fig,ax = plt.subplots(1,2)\n",
    "# df[var].hist(ax = ax[0]) matplotlib\n",
    "sns.histplot(var, ax=ax[0])\n",
    "ax[0].set_title(\"Histogram alcohol\")\n",
    "ax[1].set_title(\"Boxplot alcohol\")\n",
    "# df.boxplot(var,ax=ax[1]) matplotlib\n",
    "sns.boxplot(var,ax=ax[1])\n",
    "plt.show()"
   ]
  },
  {
   "cell_type": "code",
   "execution_count": 26,
   "metadata": {
    "execution": {
     "iopub.execute_input": "2023-04-03T19:29:54.714736Z",
     "iopub.status.busy": "2023-04-03T19:29:54.712844Z",
     "iopub.status.idle": "2023-04-03T19:29:54.723855Z",
     "shell.execute_reply": "2023-04-03T19:29:54.722716Z",
     "shell.execute_reply.started": "2023-04-03T19:29:54.714663Z"
    }
   },
   "outputs": [
    {
     "data": {
      "text/plain": [
       "10.592279999999999"
      ]
     },
     "execution_count": 26,
     "metadata": {},
     "output_type": "execute_result"
    }
   ],
   "source": [
    "var.mean()"
   ]
  },
  {
   "cell_type": "markdown",
   "metadata": {},
   "source": [
    "Dari histogram tersebut dapat dilihat bahwa persebaran data untuk kolom alcohol **terdistribusi normal**, apabila dilihat dari grafik yang berbentuk simetris seperti lonceng dan titik tertinggi berada di bagian tengah dari data dan rata-rata data yang ada di angka 10.59. Distribusi normal juga dapat dilihat dari kurva bagian samping yang memiliki frekuensi lebih sedikit dibanding dengan bagian tengah.\n",
    "\n",
    "Grafik Box Plot juga menunjukkan data yang **terdistribusi normal** yang ditunjukkan dari *interquartile range* yang berada di tengah nilai minimum dan maksimum. Dari box plot juga dapat dilihat terdapat beberapa data outlier yaitu data yang berada diluar batas atas dan batas bawah. Terdapat beberapa data outlier yang memiliki nilai kurang dari batas bawah dan 1 data yang memiliki nilai lebih dari batas atas."
   ]
  },
  {
   "cell_type": "code",
   "execution_count": 27,
   "metadata": {
    "execution": {
     "iopub.execute_input": "2023-04-03T19:31:20.875544Z",
     "iopub.status.busy": "2023-04-03T19:31:20.875043Z",
     "iopub.status.idle": "2023-04-03T19:31:21.212161Z",
     "shell.execute_reply": "2023-04-03T19:31:21.210837Z",
     "shell.execute_reply.started": "2023-04-03T19:31:20.875489Z"
    }
   },
   "outputs": [
    {
     "data": {
      "text/plain": [
       "<Figure size 700x600 with 0 Axes>"
      ]
     },
     "metadata": {},
     "output_type": "display_data"
    },
    {
     "data": {
      "image/png": "[encoded data removed]",
      "text/plain": [
       "<Figure size 640x480 with 2 Axes>"
      ]
     },
     "metadata": {},
     "output_type": "display_data"
    }
   ],
   "source": [
    "var = df['quality']\n",
    "plt.figure(figsize=(7,6))\n",
    "fig,ax = plt.subplots(1,2)\n",
    "# df[var].hist(ax = ax[0]) matplotlib\n",
    "sns.histplot(var, ax=ax[0])\n",
    "ax[0].set_title(\"Histogram quality\")\n",
    "ax[1].set_title(\"Boxplot quality\")\n",
    "# df.boxplot(var,ax=ax[1]) matplotlib\n",
    "sns.boxplot(var,ax=ax[1])\n",
    "plt.show()"
   ]
  },
  {
   "cell_type": "markdown",
   "metadata": {},
   "source": [
    "# SOAL 3"
   ]
  },
  {
   "cell_type": "markdown",
   "metadata": {},
   "source": [
    "Dibawah ini terdefinisi prosedur untuk pengecekan suatu data terdistribusi normal atau tidak. Menggunakan D'Agostino Test dan Pearson Test yang menggabungkan tes skewness dan kurtosis dengan hasil \n",
    "$$s^2 + k^2$$\n",
    "\n",
    " dengan s nilai z dari skewness test dan k nilai z dari kurtosis test\n",
    "\n",
    "Parameter yang digunakan:\n",
    "\n",
    "$H_0$: Data berdistribusi normal\n",
    "\n",
    "$H_1$: Data tidak berdistribusi normal\n",
    "\n",
    "$\\alpha$: 0.05\n",
    "\n",
    "Jika nilai $p < \\alpha$, maka $H_0$ ditolak, sebaliknya $p \\geq \\alpha$, maka $H_0$ diterima"
   ]
  },
  {
   "cell_type": "code",
   "execution_count": 28,
   "metadata": {},
   "outputs": [],
   "source": [
    "from scipy.stats import normaltest\n",
    "\n",
    "def normal_test(col):\n",
    "    stat, p = normaltest(df[col])\n",
    "\n",
    "    if p > 0.05:\n",
    "        display(Markdown(\"Kolom \" + col +\" **terdistribusi normal**\"))\n",
    "    else:\n",
    "        display(Markdown(\"Kolom \" + col +\" **tidak terdistribusi normal**\"))\n",
    "\n",
    "    sns.histplot(df[col], bins=\"auto\", kde = True)\n",
    "    plt.title('Histogram of ' + col)\n",
    "    plt.xlabel('Value')\n",
    "    plt.ylabel('Frequency')\n",
    "    plt.show()"
   ]
  },
  {
   "cell_type": "markdown",
   "metadata": {},
   "source": [
    "## Kolom Fixed Acidity"
   ]
  },
  {
   "cell_type": "code",
   "execution_count": 29,
   "metadata": {
    "scrolled": true
   },
   "outputs": [
    {
     "data": {
      "text/markdown": [
       "Kolom fixed acidity **terdistribusi normal**"
      ],
      "text/plain": [
       "<IPython.core.display.Markdown object>"
      ]
     },
     "metadata": {},
     "output_type": "display_data"
    },
    {
     "data": {
      "image/png": "[encoded data removed]",
      "text/plain": [
       "<Figure size 640x480 with 1 Axes>"
      ]
     },
     "metadata": {},
     "output_type": "display_data"
    }
   ],
   "source": [
    "normal_test('fixed acidity')"
   ]
  },
  {
   "cell_type": "markdown",
   "metadata": {},
   "source": [
    "## Kolom Volatile Acidity"
   ]
  },
  {
   "cell_type": "code",
   "execution_count": 30,
   "metadata": {
    "scrolled": false
   },
   "outputs": [
    {
     "data": {
      "text/markdown": [
       "Kolom volatile acidity **tidak terdistribusi normal**"
      ],
      "text/plain": [
       "<IPython.core.display.Markdown object>"
      ]
     },
     "metadata": {},
     "output_type": "display_data"
    },
    {
     "data": {
      "image/png": "[encoded data removed]",
      "text/plain": [
       "<Figure size 640x480 with 1 Axes>"
      ]
     },
     "metadata": {},
     "output_type": "display_data"
    }
   ],
   "source": [
    "normal_test('volatile acidity')"
   ]
  },
  {
   "cell_type": "markdown",
   "metadata": {},
   "source": [
    "## Kolom Citric Acid "
   ]
  },
  {
   "cell_type": "code",
   "execution_count": 31,
   "metadata": {
    "scrolled": false
   },
   "outputs": [
    {
     "data": {
      "text/markdown": [
       "Kolom citric acid **terdistribusi normal**"
      ],
      "text/plain": [
       "<IPython.core.display.Markdown object>"
      ]
     },
     "metadata": {},
     "output_type": "display_data"
    },
    {
     "data": {
      "image/png": "[encoded data removed]",
      "text/plain": [
       "<Figure size 640x480 with 1 Axes>"
      ]
     },
     "metadata": {},
     "output_type": "display_data"
    }
   ],
   "source": [
    "normal_test('citric acid')"
   ]
  },
  {
   "cell_type": "markdown",
   "metadata": {},
   "source": [
    "## Kolom Residual Sugar"
   ]
  },
  {
   "cell_type": "code",
   "execution_count": 32,
   "metadata": {
    "scrolled": true
   },
   "outputs": [
    {
     "data": {
      "text/markdown": [
       "Kolom residual sugar **terdistribusi normal**"
      ],
      "text/plain": [
       "<IPython.core.display.Markdown object>"
      ]
     },
     "metadata": {},
     "output_type": "display_data"
    },
    {
     "data": {
      "image/png": "[encoded data removed]",
      "text/plain": [
       "<Figure size 640x480 with 1 Axes>"
      ]
     },
     "metadata": {},
     "output_type": "display_data"
    }
   ],
   "source": [
    "normal_test('residual sugar')"
   ]
  },
  {
   "cell_type": "markdown",
   "metadata": {},
   "source": [
    "## Kolom Chlorides"
   ]
  },
  {
   "cell_type": "code",
   "execution_count": 33,
   "metadata": {
    "scrolled": true
   },
   "outputs": [
    {
     "data": {
      "text/markdown": [
       "Kolom chlorides **terdistribusi normal**"
      ],
      "text/plain": [
       "<IPython.core.display.Markdown object>"
      ]
     },
     "metadata": {},
     "output_type": "display_data"
    },
    {
     "data": {
      "image/png": "[encoded data removed]",
      "text/plain": [
       "<Figure size 640x480 with 1 Axes>"
      ]
     },
     "metadata": {},
     "output_type": "display_data"
    }
   ],
   "source": [
    "normal_test('chlorides')"
   ]
  },
  {
   "cell_type": "markdown",
   "metadata": {},
   "source": [
    "## Kolom Free Sulfur Dioxide"
   ]
  },
  {
   "cell_type": "code",
   "execution_count": 34,
   "metadata": {
    "scrolled": false
   },
   "outputs": [
    {
     "data": {
      "text/markdown": [
       "Kolom free sulfur dioxide **tidak terdistribusi normal**"
      ],
      "text/plain": [
       "<IPython.core.display.Markdown object>"
      ]
     },
     "metadata": {},
     "output_type": "display_data"
    },
    {
     "data": {
      "image/png": "[encoded data removed]",
      "text/plain": [
       "<Figure size 640x480 with 1 Axes>"
      ]
     },
     "metadata": {},
     "output_type": "display_data"
    }
   ],
   "source": [
    "normal_test('free sulfur dioxide')"
   ]
  },
  {
   "cell_type": "markdown",
   "metadata": {},
   "source": [
    "## Kolom Total Sulfur Dioxide"
   ]
  },
  {
   "cell_type": "code",
   "execution_count": 35,
   "metadata": {
    "scrolled": true
   },
   "outputs": [
    {
     "data": {
      "text/markdown": [
       "Kolom total sulfur dioxide **terdistribusi normal**"
      ],
      "text/plain": [
       "<IPython.core.display.Markdown object>"
      ]
     },
     "metadata": {},
     "output_type": "display_data"
    },
    {
     "data": {
      "image/png": "[encoded data removed]",
      "text/plain": [
       "<Figure size 640x480 with 1 Axes>"
      ]
     },
     "metadata": {},
     "output_type": "display_data"
    }
   ],
   "source": [
    "normal_test('total sulfur dioxide')"
   ]
  },
  {
   "cell_type": "markdown",
   "metadata": {},
   "source": [
    "## Kolom Density"
   ]
  },
  {
   "cell_type": "code",
   "execution_count": 36,
   "metadata": {
    "scrolled": false
   },
   "outputs": [
    {
     "data": {
      "text/markdown": [
       "Kolom density **terdistribusi normal**"
      ],
      "text/plain": [
       "<IPython.core.display.Markdown object>"
      ]
     },
     "metadata": {},
     "output_type": "display_data"
    },
    {
     "data": {
      "image/png": "[encoded data removed]",
      "text/plain": [
       "<Figure size 640x480 with 1 Axes>"
      ]
     },
     "metadata": {},
     "output_type": "display_data"
    }
   ],
   "source": [
    "normal_test('density')"
   ]
  },
  {
   "cell_type": "markdown",
   "metadata": {},
   "source": [
    "## Kolom pH"
   ]
  },
  {
   "cell_type": "code",
   "execution_count": 37,
   "metadata": {
    "scrolled": false
   },
   "outputs": [
    {
     "data": {
      "text/markdown": [
       "Kolom pH **terdistribusi normal**"
      ],
      "text/plain": [
       "<IPython.core.display.Markdown object>"
      ]
     },
     "metadata": {},
     "output_type": "display_data"
    },
    {
     "data": {
      "image/png": "[encoded data removed]",
      "text/plain": [
       "<Figure size 640x480 with 1 Axes>"
      ]
     },
     "metadata": {},
     "output_type": "display_data"
    }
   ],
   "source": [
    "normal_test('pH')"
   ]
  },
  {
   "cell_type": "markdown",
   "metadata": {},
   "source": [
    "## Kolom Sulphates"
   ]
  },
  {
   "cell_type": "code",
   "execution_count": 38,
   "metadata": {
    "scrolled": true
   },
   "outputs": [
    {
     "data": {
      "text/markdown": [
       "Kolom sulphates **terdistribusi normal**"
      ],
      "text/plain": [
       "<IPython.core.display.Markdown object>"
      ]
     },
     "metadata": {},
     "output_type": "display_data"
    },
    {
     "data": {
      "image/png": "[encoded data removed]",
      "text/plain": [
       "<Figure size 640x480 with 1 Axes>"
      ]
     },
     "metadata": {},
     "output_type": "display_data"
    }
   ],
   "source": [
    "normal_test('sulphates')"
   ]
  },
  {
   "cell_type": "markdown",
   "metadata": {},
   "source": [
    "## Kolom Alcohol"
   ]
  },
  {
   "cell_type": "code",
   "execution_count": 39,
   "metadata": {
    "scrolled": true
   },
   "outputs": [
    {
     "data": {
      "text/markdown": [
       "Kolom alcohol **terdistribusi normal**"
      ],
      "text/plain": [
       "<IPython.core.display.Markdown object>"
      ]
     },
     "metadata": {},
     "output_type": "display_data"
    },
    {
     "data": {
      "image/png": "[encoded data removed]",
      "text/plain": [
       "<Figure size 640x480 with 1 Axes>"
      ]
     },
     "metadata": {},
     "output_type": "display_data"
    }
   ],
   "source": [
    "normal_test('alcohol')"
   ]
  },
  {
   "cell_type": "markdown",
   "metadata": {},
   "source": [
    "# SOAL 4"
   ]
  },
  {
   "cell_type": "markdown",
   "metadata": {},
   "source": [
    "## a. Nilai rata-rata pH di atas 3.29?"
   ]
  },
  {
   "attachments": {},
   "cell_type": "markdown",
   "metadata": {},
   "source": [
    "**Tentukan Hipotesis null** \n",
    "\n",
    "$H_0 : \\mu = 3.29$\n",
    "\n",
    "**Tentukan Hipotesis alternatif**\n",
    "\n",
    "$H_1 : \\mu > 3.29$\n",
    "\n",
    "**Tentukan tingkat signifikan**\n",
    "\n",
    "$\\alpha = 0.05$\n",
    "\n",
    "**Menggunakan one-tailed test dan perhitungan z**\n",
    "\n",
    "Nilai z didapatkan dari\n",
    "$$ z = \\frac{\\bar{x}-\\mu}{\\sigma}  \\sqrt{N}$$\n",
    "\n",
    "Daerah kritis yang diambil = $z > 1.645$\n",
    "\n",
    "**Perhitungan $p$-value**\n",
    "\n",
    "$p$-value didapatkan dengan menghitung $P(Z > z)$\n",
    "\n",
    "**Pengambilan Keputusan**\n",
    "\n",
    "$H_0$ diterima jika $p \\geq \\alpha$ dan $z \\leq z_{\\alpha}$\n",
    "\n",
    "$H_0$ ditolak jika $p < \\alpha$ atau $z > z_{\\alpha}$"
   ]
  },
  {
   "cell_type": "code",
   "execution_count": 40,
   "metadata": {
    "execution": {
     "iopub.execute_input": "2023-04-03T17:13:53.528473Z",
     "iopub.status.busy": "2023-04-03T17:13:53.528018Z",
     "iopub.status.idle": "2023-04-03T17:13:53.538526Z",
     "shell.execute_reply": "2023-04-03T17:13:53.536987Z",
     "shell.execute_reply.started": "2023-04-03T17:13:53.528434Z"
    }
   },
   "outputs": [
    {
     "data": {
      "text/markdown": [
       "Nilai p = 0.0"
      ],
      "text/plain": [
       "<IPython.core.display.Markdown object>"
      ]
     },
     "metadata": {},
     "output_type": "display_data"
    },
    {
     "data": {
      "text/markdown": [
       "Nilai z = 4.104"
      ],
      "text/plain": [
       "<IPython.core.display.Markdown object>"
      ]
     },
     "metadata": {},
     "output_type": "display_data"
    },
    {
     "data": {
      "text/markdown": [
       "Nilai alpha = 0.05"
      ],
      "text/plain": [
       "<IPython.core.display.Markdown object>"
      ]
     },
     "metadata": {},
     "output_type": "display_data"
    },
    {
     "data": {
      "text/markdown": [
       "Nilai z alpha = 1.645"
      ],
      "text/plain": [
       "<IPython.core.display.Markdown object>"
      ]
     },
     "metadata": {},
     "output_type": "display_data"
    },
    {
     "data": {
      "text/markdown": [
       "Kesimpulan"
      ],
      "text/plain": [
       "<IPython.core.display.Markdown object>"
      ]
     },
     "metadata": {},
     "output_type": "display_data"
    },
    {
     "data": {
      "text/markdown": [
       "H0 ditolak: Rata-rata pH-nya lebih dari 3.29"
      ],
      "text/plain": [
       "<IPython.core.display.Markdown object>"
      ]
     },
     "metadata": {},
     "output_type": "display_data"
    }
   ],
   "source": [
    "# Nilai Kepercayaan\n",
    "sig = 0.05\n",
    "\n",
    "# cari nilai z\n",
    "z = (df['pH'].mean() - 3.29)/(df['pH'].std()/np.sqrt(1000))\n",
    "\n",
    "# cari nilai z dari tabel\n",
    "z_a = norm.ppf(1-sig)\n",
    "\n",
    "#cari Pvalue\n",
    "Pval = norm.sf(z)\n",
    "\n",
    "display(Markdown(f\"Nilai p = {round(Pval,3)}\"))\n",
    "display(Markdown(f\"Nilai z = {round(z,3)}\"))\n",
    "display(Markdown(f\"Nilai alpha = {round(sig,3)}\"))\n",
    "display(Markdown(f\"Nilai z alpha = {round(z_a,3)}\"))\n",
    "\n",
    "display(Markdown(\"Kesimpulan\"))\n",
    "if (Pval >= sig and z <= z_a):\n",
    "    display(Markdown(\"H0 diterima: Rata-rata pH-nya 3.29 ke bawah\"))\n",
    "else:\n",
    "    display(Markdown(\"H0 ditolak: Rata-rata pH-nya lebih dari 3.29\"))"
   ]
  },
  {
   "cell_type": "markdown",
   "metadata": {},
   "source": [
    "## b. Nilai rata-rata Residual Sugar tidak sama dengan 2.50?"
   ]
  },
  {
   "attachments": {},
   "cell_type": "markdown",
   "metadata": {},
   "source": [
    "**Tentukan Hipotesis null** \n",
    "\n",
    "$H_0 : \\mu = 2.5$\n",
    "\n",
    "**Tentukan Hipotesis alternatif**\n",
    "\n",
    "$H_1 : \\mu \\neq 2.5$\n",
    "\n",
    "**Tentukan tingkat signifikan**\n",
    "\n",
    "$\\alpha = 0.05$\n",
    "\n",
    "**Menggunakan two-tailed test dan perhitungan z**\n",
    "\n",
    "Nilai z didapatkan dari\n",
    "$$ z = \\frac{\\bar{x}-\\mu}{\\sigma}  \\sqrt{N}$$\n",
    "\n",
    "daerah kritis yang diambil $z < -1.96$ atau $z > 1.96$\n",
    "\n",
    "**Perhitungan $p$-value**\n",
    "\n",
    "$p$-value didapatkan dari $2P(Z<-z)$\n",
    "\n",
    "**Pengambilan Keputusan**\n",
    "\n",
    "$H_0$ ditolak jika $p < \\alpha$ dan untuk nilai $z$, $z < -1.96$ atau $z > 1.96$\n",
    "\n",
    "$H_0$ diterima jika $p \\geq \\alpha$ dan untuk nilai $z$, $-1.96 \\leq z \\leq 1.96$"
   ]
  },
  {
   "cell_type": "code",
   "execution_count": 41,
   "metadata": {
    "execution": {
     "iopub.execute_input": "2023-04-03T17:28:47.219477Z",
     "iopub.status.busy": "2023-04-03T17:28:47.219031Z",
     "iopub.status.idle": "2023-04-03T17:28:47.230425Z",
     "shell.execute_reply": "2023-04-03T17:28:47.229001Z",
     "shell.execute_reply.started": "2023-04-03T17:28:47.219441Z"
    }
   },
   "outputs": [
    {
     "data": {
      "text/markdown": [
       "Nilai p = 0.032"
      ],
      "text/plain": [
       "<IPython.core.display.Markdown object>"
      ]
     },
     "metadata": {},
     "output_type": "display_data"
    },
    {
     "data": {
      "text/markdown": [
       "Nilai z = 2.148"
      ],
      "text/plain": [
       "<IPython.core.display.Markdown object>"
      ]
     },
     "metadata": {},
     "output_type": "display_data"
    },
    {
     "data": {
      "text/markdown": [
       "Nilai alpha = 0.05"
      ],
      "text/plain": [
       "<IPython.core.display.Markdown object>"
      ]
     },
     "metadata": {},
     "output_type": "display_data"
    },
    {
     "data": {
      "text/markdown": [
       "Nilai z alpha = 1.96"
      ],
      "text/plain": [
       "<IPython.core.display.Markdown object>"
      ]
     },
     "metadata": {},
     "output_type": "display_data"
    },
    {
     "name": "stdout",
     "output_type": "stream",
     "text": [
      "H0 ditolak: Residual Sugar tidak sama dengan 2.5\n"
     ]
    }
   ],
   "source": [
    "#4.b\n",
    "# Nilai Kepercayaan = 0.05\n",
    "sig = 0.05\n",
    "# Hitung nilai ZHit\n",
    "z = (df['residual sugar'].mean() - 2.5)/(df['residual sugar'].std()/np.sqrt(1000))\n",
    "# Cari nilai Z Tabel\n",
    "z_a = norm.ppf(1 - sig/2)\n",
    "\n",
    "#cari p value untuk two tailed\n",
    "Pval = 2*norm.sf(z)\n",
    "\n",
    "display(Markdown(f\"Nilai p = {round(Pval,3)}\"))\n",
    "display(Markdown(f\"Nilai z = {round(z,3)}\"))\n",
    "display(Markdown(f\"Nilai alpha = {round(sig,3)}\"))\n",
    "display(Markdown(f\"Nilai z alpha = {round(z_a,3)}\"))\n",
    "\n",
    "# Pengambilan Keputusan\n",
    "if (Pval<sig and (z < -1*(z_a) or z > z_a)):\n",
    "    print(\"H0 ditolak: Residual Sugar tidak sama dengan 2.5\")\n",
    "else:\n",
    "    print(\"H0 diterima: Residual Sugar sama dengan 2.5\")"
   ]
  },
  {
   "cell_type": "markdown",
   "metadata": {},
   "source": [
    "## c. Nilai rata-rata 150 baris pertama kolom sulphates bukan 0.65?"
   ]
  },
  {
   "attachments": {},
   "cell_type": "markdown",
   "metadata": {},
   "source": [
    "**Tentukan Hipotesis null** \n",
    "\n",
    "$H_0 : \\mu = 0.65$\n",
    "\n",
    "**Tentukan Hipotesis alternatif**\n",
    "\n",
    "$H_1 : \\mu \\neq 0.65$\n",
    "\n",
    "**Tentukan tingkat signifikan**\n",
    "\n",
    "$\\alpha = 0.05$\n",
    "\n",
    "**Menggunakan two-tailed test dan perhitungan z**\n",
    "\n",
    "Nilai z didapatkan dari\n",
    "$$ z = \\frac{\\bar{x}-\\mu}{\\sigma}  \\sqrt{N}$$\n",
    "\n",
    "daerah kritis yang diambil $z < -1.96$ atau $z > 1.96$\n",
    "\n",
    "**Perhitungan $p$-value**\n",
    "\n",
    "$p$-value didapatkan dari $2P(Z>z)$\n",
    "\n",
    "**Pengambilan Keputusan**\n",
    "\n",
    "$H_0$ ditolak jika $p < \\alpha$ dan untuk nilai $z$, $z < -1.96$ atau $z > 1.96$\n",
    "\n",
    "$H_0$ diterima jika $p \\geq \\alpha$ dan untuk nilai $z$, $-1.96 \\leq z \\leq 1.96$"
   ]
  },
  {
   "cell_type": "code",
   "execution_count": 42,
   "metadata": {
    "execution": {
     "iopub.execute_input": "2023-04-03T17:29:14.454004Z",
     "iopub.status.busy": "2023-04-03T17:29:14.453589Z",
     "iopub.status.idle": "2023-04-03T17:29:14.464724Z",
     "shell.execute_reply": "2023-04-03T17:29:14.463093Z",
     "shell.execute_reply.started": "2023-04-03T17:29:14.453971Z"
    }
   },
   "outputs": [
    {
     "data": {
      "text/markdown": [
       "Nilai p = 0.0"
      ],
      "text/plain": [
       "<IPython.core.display.Markdown object>"
      ]
     },
     "metadata": {},
     "output_type": "display_data"
    },
    {
     "data": {
      "text/markdown": [
       "Nilai z = -4.965"
      ],
      "text/plain": [
       "<IPython.core.display.Markdown object>"
      ]
     },
     "metadata": {},
     "output_type": "display_data"
    },
    {
     "data": {
      "text/markdown": [
       "Nilai alpha = 0.05"
      ],
      "text/plain": [
       "<IPython.core.display.Markdown object>"
      ]
     },
     "metadata": {},
     "output_type": "display_data"
    },
    {
     "data": {
      "text/markdown": [
       "Nilai z alpha = 1.96"
      ],
      "text/plain": [
       "<IPython.core.display.Markdown object>"
      ]
     },
     "metadata": {},
     "output_type": "display_data"
    },
    {
     "data": {
      "text/markdown": [
       "Kesimpulan"
      ],
      "text/plain": [
       "<IPython.core.display.Markdown object>"
      ]
     },
     "metadata": {},
     "output_type": "display_data"
    },
    {
     "name": "stdout",
     "output_type": "stream",
     "text": [
      "H0 ditolak: Rata-Rata sulphates tidak sama dengan 0.65\n"
     ]
    }
   ],
   "source": [
    "# Ambil 150 data pertama\n",
    "testSulphate = df.head(150).copy()\n",
    "\n",
    "# Nilai Kepercayaan = 0.05\n",
    "sig = 0.05\n",
    "\n",
    "# Hitung nilai ZHit\n",
    "z = (testSulphate['sulphates'].mean() - 0.65)/(testSulphate['sulphates'].std()/np.sqrt(150))\n",
    "\n",
    "# Hitung nilai Z Tabel\n",
    "z_a = norm.ppf(1-sig/2)\n",
    "\n",
    "# Cari nilai p\n",
    "PVal = norm.sf(abs(z))*2\n",
    "\n",
    "display(Markdown(f\"Nilai p = {round(PVal,3)}\"))\n",
    "display(Markdown(f\"Nilai z = {round(z,3)}\"))\n",
    "display(Markdown(f\"Nilai alpha = {round(sig,3)}\"))\n",
    "display(Markdown(f\"Nilai z alpha = {round(z_a,3)}\"))\n",
    "display(Markdown(\"Kesimpulan\"))\n",
    "\n",
    "# Pengambilan Keputusan\n",
    "if (PVal<sig and (z < -z_a or z > z_a)):\n",
    "    print(\"H0 ditolak: Rata-Rata sulphates tidak sama dengan 0.65\")\n",
    "else:\n",
    "    print(\"H0 diterima: Rata-Rata sulphates sama dengan 0.65\")"
   ]
  },
  {
   "cell_type": "markdown",
   "metadata": {},
   "source": [
    "## d. Nilai rata-rata total sulfur dioxide di bawah 35?"
   ]
  },
  {
   "attachments": {},
   "cell_type": "markdown",
   "metadata": {},
   "source": [
    "**Tentukan Hipotesis null** \n",
    "\n",
    "$H_0 : \\mu = 35$\n",
    "\n",
    "**Tentukan Hipotesis alternatif**\n",
    "\n",
    "$H_1 : \\mu < 35$\n",
    "\n",
    "**Tentukan tingkat signifikan**\n",
    "\n",
    "$\\alpha = 0.05$\n",
    "\n",
    "**Menggunakan one-tailed test yang didekati dari kiri dan perhitungan z**\n",
    "\n",
    "Nilai z didapatkan dari\n",
    "$$ z = \\frac{\\bar{x}-\\mu}{\\sigma}  \\sqrt{N}$$\n",
    "\n",
    "daerah kritis yang diambil $z < -1.645$\n",
    "\n",
    "**Perhitungan $p$-value**\n",
    "\n",
    "$p$-value didapatkan dari $P(Z<z)$\n",
    "\n",
    "**Pengambilan Keputusan**\n",
    "\n",
    "$H_0$ ditolak jika $p < \\alpha$ dan untuk nilai $z$, $z < -1.645$\n",
    "\n",
    "$H_0$ diterima jika $p \\geq \\alpha$ dan untuk nilai $z$, $z \\geq -1.645$"
   ]
  },
  {
   "cell_type": "code",
   "execution_count": 43,
   "metadata": {
    "execution": {
     "iopub.execute_input": "2023-04-03T18:06:34.705281Z",
     "iopub.status.busy": "2023-04-03T18:06:34.704816Z",
     "iopub.status.idle": "2023-04-03T18:06:34.715907Z",
     "shell.execute_reply": "2023-04-03T18:06:34.714418Z",
     "shell.execute_reply.started": "2023-04-03T18:06:34.705244Z"
    }
   },
   "outputs": [
    {
     "data": {
      "text/markdown": [
       "Nilai p = 0.0"
      ],
      "text/plain": [
       "<IPython.core.display.Markdown object>"
      ]
     },
     "metadata": {},
     "output_type": "display_data"
    },
    {
     "data": {
      "text/markdown": [
       "Nilai z = 16.786"
      ],
      "text/plain": [
       "<IPython.core.display.Markdown object>"
      ]
     },
     "metadata": {},
     "output_type": "display_data"
    },
    {
     "data": {
      "text/markdown": [
       "Nilai alpha = 0.05"
      ],
      "text/plain": [
       "<IPython.core.display.Markdown object>"
      ]
     },
     "metadata": {},
     "output_type": "display_data"
    },
    {
     "data": {
      "text/markdown": [
       "Nilai z alpha = -1.645"
      ],
      "text/plain": [
       "<IPython.core.display.Markdown object>"
      ]
     },
     "metadata": {},
     "output_type": "display_data"
    },
    {
     "data": {
      "text/markdown": [
       "Kesimpulan"
      ],
      "text/plain": [
       "<IPython.core.display.Markdown object>"
      ]
     },
     "metadata": {},
     "output_type": "display_data"
    },
    {
     "name": "stdout",
     "output_type": "stream",
     "text": [
      "H0 diterima: rata-rata total sulfur dioxide di atas 35\n"
     ]
    }
   ],
   "source": [
    "# Nilai Kepercayaan = 0.05\n",
    "sig = 0.05\n",
    "\n",
    "# Hitung nilai ZHitung\n",
    "z = (df['total sulfur dioxide'].mean() - 35)/(df['total sulfur dioxide'].std()/np.sqrt(1000))\n",
    "\n",
    "# Hitung nilai Z tabel\n",
    "z_a = norm.ppf(sig)\n",
    "\n",
    "# Hitung nilai p\n",
    "PVal = norm.sf(abs(z))\n",
    "\n",
    "display(Markdown(f\"Nilai p = {round(PVal,3)}\"))\n",
    "display(Markdown(f\"Nilai z = {round(z,3)}\"))\n",
    "display(Markdown(f\"Nilai alpha = {round(sig,3)}\"))\n",
    "display(Markdown(f\"Nilai z alpha = {round(z_a,3)}\"))\n",
    "display(Markdown(\"Kesimpulan\"))\n",
    "\n",
    "# Pengambilan Keputusan\n",
    "if (PVal < sig and z < z_a):\n",
    "    print(\"H0 ditolak: rata-rata total sulfur dioxide di bawah 35\")\n",
    "else:\n",
    "    print(\"H0 diterima: rata-rata total sulfur dioxide di atas 35\")"
   ]
  },
  {
   "cell_type": "markdown",
   "metadata": {},
   "source": [
    "## e. Proporsi nilai total Sulfat Dioxide yang lebih dari 40, adalah tidak sama dengan 50% "
   ]
  },
  {
   "attachments": {},
   "cell_type": "markdown",
   "metadata": {},
   "source": [
    "**Tentukan Hipotesis null** \n",
    "\n",
    "$H_0 : p = 0.5$\n",
    "\n",
    "**Tentukan Hipotesis alternatif**\n",
    "\n",
    "$H_1 : p \\neq 0.5$\n",
    "\n",
    "**Tentukan tingkat signifikan**\n",
    "\n",
    "$\\alpha = 0.05$\n",
    "\n",
    "**Menggunakan two-tailed test dan perhitungan z**\n",
    "\n",
    "Nilai z didapatkan dari\n",
    "$$ z = \\frac{\\hat{p}-p_0}{\\sqrt{\\frac{p_0q_0}{n}}}$$\n",
    "\n",
    "daerah kritis yang diambil $z < -z_{\\alpha}$ or $z> z_{\\alpha}$"
   ]
  },
  {
   "cell_type": "code",
   "execution_count": 44,
   "metadata": {
    "execution": {
     "iopub.execute_input": "2023-04-03T18:06:12.541117Z",
     "iopub.status.busy": "2023-04-03T18:06:12.540168Z",
     "iopub.status.idle": "2023-04-03T18:06:12.550102Z",
     "shell.execute_reply": "2023-04-03T18:06:12.548720Z",
     "shell.execute_reply.started": "2023-04-03T18:06:12.541062Z"
    }
   },
   "outputs": [
    {
     "data": {
      "text/markdown": [
       "Nilai p = 0.448"
      ],
      "text/plain": [
       "<IPython.core.display.Markdown object>"
      ]
     },
     "metadata": {},
     "output_type": "display_data"
    },
    {
     "data": {
      "text/markdown": [
       "Nilai z = 0.759"
      ],
      "text/plain": [
       "<IPython.core.display.Markdown object>"
      ]
     },
     "metadata": {},
     "output_type": "display_data"
    },
    {
     "data": {
      "text/markdown": [
       "Nilai alpha = 0.05"
      ],
      "text/plain": [
       "<IPython.core.display.Markdown object>"
      ]
     },
     "metadata": {},
     "output_type": "display_data"
    },
    {
     "data": {
      "text/markdown": [
       "Nilai z alpha = 1.96"
      ],
      "text/plain": [
       "<IPython.core.display.Markdown object>"
      ]
     },
     "metadata": {},
     "output_type": "display_data"
    },
    {
     "data": {
      "text/markdown": [
       "Kesimpulan"
      ],
      "text/plain": [
       "<IPython.core.display.Markdown object>"
      ]
     },
     "metadata": {},
     "output_type": "display_data"
    },
    {
     "name": "stdout",
     "output_type": "stream",
     "text": [
      "H0 diterima : p = 0.5\n"
     ]
    }
   ],
   "source": [
    "# Pecah data untuk nilai total sulfur dioxide yang lebih dari 40\n",
    "xMoreThan40 = df.loc[df['total sulfur dioxide'] > 40]\n",
    "pTopi = len(xMoreThan40)/1000\n",
    "\n",
    "sig = 0.05\n",
    "z = (pTopi-0.5)/(np.sqrt(0.5**2/1000))\n",
    "z_a = norm.ppf(1-sig/2)\n",
    "PVal = scipy.stats.norm.sf(abs(z)) * 2\n",
    "\n",
    "display(Markdown(f\"Nilai p = {round(PVal,3)}\"))\n",
    "display(Markdown(f\"Nilai z = {round(z,3)}\"))\n",
    "display(Markdown(f\"Nilai alpha = {round(sig,3)}\"))\n",
    "display(Markdown(f\"Nilai z alpha = {round(z_a,3)}\"))\n",
    "display(Markdown(\"Kesimpulan\"))\n",
    "\n",
    "if (PVal < sig and (z < -z_a or z> z_a)):\n",
    "    print(\"H0 ditolak : p != 0.5\")\n",
    "else:\n",
    "    print(\"H0 diterima : p = 0.5\")"
   ]
  },
  {
   "cell_type": "markdown",
   "metadata": {},
   "source": [
    "# SOAL 5"
   ]
  },
  {
   "cell_type": "markdown",
   "metadata": {},
   "source": [
    "## a. Data kolom fixed acidity dibagi 2 sama rata: bagian awal dan bagian akhir kolom. Benarkah rata-rata kedua bagian tersebut sama?"
   ]
  },
  {
   "attachments": {},
   "cell_type": "markdown",
   "metadata": {},
   "source": [
    "**Tentukan Hipotesis null** \n",
    "\n",
    "$H_0 : \\mu_1-\\mu_2 = 0$\n",
    "\n",
    "**Tentukan Hipotesis alternatif**\n",
    "\n",
    "$H_1 : \\mu_1-\\mu_2 \\neq 0$\n",
    "\n",
    "**Tentukan tingkat signifikan**\n",
    "\n",
    "$\\alpha = 0.05$\n",
    "\n",
    "**Menggunakan two-tailed test dan perhitungan z**\n",
    "\n",
    "Nilai z didapatkan dari\n",
    "$$ z = \\frac{\\bar{x}_1-\\bar{x}_2 - d_0}{\\sqrt{\\frac{\\sigma_1^2}{n_1} + \\frac{\\sigma_2^2}{n_2}}}$$\n",
    "\n",
    "Daerah Kritis = $z < -1.96 \\text{ atau } z > 1.96$"
   ]
  },
  {
   "cell_type": "code",
   "execution_count": 45,
   "metadata": {
    "execution": {
     "iopub.execute_input": "2023-04-03T17:53:56.904158Z",
     "iopub.status.busy": "2023-04-03T17:53:56.903049Z",
     "iopub.status.idle": "2023-04-03T17:53:56.914596Z",
     "shell.execute_reply": "2023-04-03T17:53:56.913314Z",
     "shell.execute_reply.started": "2023-04-03T17:53:56.904111Z"
    }
   },
   "outputs": [
    {
     "data": {
      "text/markdown": [
       "Nilai p = 0.979"
      ],
      "text/plain": [
       "<IPython.core.display.Markdown object>"
      ]
     },
     "metadata": {},
     "output_type": "display_data"
    },
    {
     "data": {
      "text/markdown": [
       "Nilai z = 0.026"
      ],
      "text/plain": [
       "<IPython.core.display.Markdown object>"
      ]
     },
     "metadata": {},
     "output_type": "display_data"
    },
    {
     "data": {
      "text/markdown": [
       "Nilai alpha = 0.05"
      ],
      "text/plain": [
       "<IPython.core.display.Markdown object>"
      ]
     },
     "metadata": {},
     "output_type": "display_data"
    },
    {
     "data": {
      "text/markdown": [
       "Nilai z alpha = 1.96"
      ],
      "text/plain": [
       "<IPython.core.display.Markdown object>"
      ]
     },
     "metadata": {},
     "output_type": "display_data"
    },
    {
     "data": {
      "text/markdown": [
       "Kesimpulan"
      ],
      "text/plain": [
       "<IPython.core.display.Markdown object>"
      ]
     },
     "metadata": {},
     "output_type": "display_data"
    },
    {
     "name": "stdout",
     "output_type": "stream",
     "text": [
      "H0 diterima, bagian awal sama dengan bagian akhir rata2nya\n"
     ]
    }
   ],
   "source": [
    "fixedAcidityAwal = df[0:500].copy()\n",
    "fixedAcidityAkhir = df[500:1000].copy()\n",
    "m1 = fixedAcidityAwal['fixed acidity'].mean()\n",
    "m2 = fixedAcidityAkhir['fixed acidity'].mean()\n",
    "\n",
    "# H0: m1 - m2 = 0\n",
    "# H1: m1 - m2 != 0\n",
    "# Derajat Kepercayaan = 0.05\n",
    "# Daerah Kritis = z < -1.96 atau z > 1.96\n",
    "\n",
    "# Computation\n",
    "sig = 0.05\n",
    "z = (m1-m2-0)/(np.sqrt((fixedAcidityAwal['fixed acidity'].std()**2/500) + (fixedAcidityAkhir['fixed acidity'].std()**2/500)))\n",
    "z_a = norm.ppf(1-sig/2)\n",
    "PVal = scipy.stats.norm.sf(abs(z))*2\n",
    "\n",
    "display(Markdown(f\"Nilai p = {round(PVal,3)}\"))\n",
    "display(Markdown(f\"Nilai z = {round(z,3)}\"))\n",
    "display(Markdown(f\"Nilai alpha = {round(sig,3)}\"))\n",
    "display(Markdown(f\"Nilai z alpha = {round(z_a,3)}\"))\n",
    "display(Markdown(\"Kesimpulan\"))\n",
    "\n",
    "if (PVal < sig and (z < -z_a or z > z_a)):\n",
    "    print(\"H0 ditolak, bagian awal tidak sama dengan bagian akhir rata2nya\")\n",
    "else:\n",
    "    print(\"H0 diterima, bagian awal sama dengan bagian akhir rata2nya\")"
   ]
  },
  {
   "cell_type": "markdown",
   "metadata": {},
   "source": [
    "## b. Data kolom chlorides dibagi 2 sama rata: bagian awal dan bagian akhir kolom. Benarkah rata-rata bagian awal lebih besar daripada bagian akhir sebesar 0.001?"
   ]
  },
  {
   "attachments": {},
   "cell_type": "markdown",
   "metadata": {},
   "source": [
    "**Tentukan Hipotesis null** \n",
    "\n",
    "$H_0 : \\mu_1 - \\mu_2 = 0.001$\n",
    "\n",
    "**Tentukan Hipotesis alternatif**\n",
    "\n",
    "$H_1 : \\mu_1 - \\mu_2 > 0.001$\n",
    "\n",
    "**Tentukan tingkat signifikan**\n",
    "\n",
    "$\\alpha = 0.05$\n",
    "\n",
    "**Menggunakan one-tailed test dan perhitungan z**\n",
    "\n",
    "Nilai z didapatkan dari\n",
    "$$ z = \\frac{\\bar{x}_1-\\bar{x}_2 - d_0}{\\sqrt{\\frac{\\sigma_1^2}{n_1} + \\frac{\\sigma_2^2}{n_2}}}$$\n",
    "\n",
    "Ambil daerah kritis $z > z_{\\alpha}$"
   ]
  },
  {
   "cell_type": "code",
   "execution_count": 46,
   "metadata": {
    "execution": {
     "iopub.execute_input": "2023-04-03T18:01:13.612801Z",
     "iopub.status.busy": "2023-04-03T18:01:13.612170Z",
     "iopub.status.idle": "2023-04-03T18:01:13.624971Z",
     "shell.execute_reply": "2023-04-03T18:01:13.623576Z",
     "shell.execute_reply.started": "2023-04-03T18:01:13.612755Z"
    }
   },
   "outputs": [
    {
     "data": {
      "text/markdown": [
       "Nilai p = 1.36"
      ],
      "text/plain": [
       "<IPython.core.display.Markdown object>"
      ]
     },
     "metadata": {},
     "output_type": "display_data"
    },
    {
     "data": {
      "text/markdown": [
       "Nilai z = -0.467"
      ],
      "text/plain": [
       "<IPython.core.display.Markdown object>"
      ]
     },
     "metadata": {},
     "output_type": "display_data"
    },
    {
     "data": {
      "text/markdown": [
       "Nilai alpha = 0.05"
      ],
      "text/plain": [
       "<IPython.core.display.Markdown object>"
      ]
     },
     "metadata": {},
     "output_type": "display_data"
    },
    {
     "data": {
      "text/markdown": [
       "Nilai z alpha = 1.645"
      ],
      "text/plain": [
       "<IPython.core.display.Markdown object>"
      ]
     },
     "metadata": {},
     "output_type": "display_data"
    },
    {
     "data": {
      "text/markdown": [
       "Kesimpulan"
      ],
      "text/plain": [
       "<IPython.core.display.Markdown object>"
      ]
     },
     "metadata": {},
     "output_type": "display_data"
    },
    {
     "name": "stdout",
     "output_type": "stream",
     "text": [
      "H0 diterima, bagian awal tidak lebih besar dari bagian akhirnya\n"
     ]
    }
   ],
   "source": [
    "# ini emang ada 2 ya critical valuenya?\n",
    "chloridesAwal = df[0:500].copy()\n",
    "chloridesAkhir = df[500:1000].copy()\n",
    "m1 = chloridesAwal['chlorides'].mean()\n",
    "m2 = chloridesAkhir['chlorides'].mean()\n",
    "\n",
    "# H0: m1 - m2 = 0.001\n",
    "# H1: m1 - m2 > 0.001\n",
    "# Derajat Kepercayaan: 0.05\n",
    "# Derajat Kebebasan = 1000 - 2 = 998\n",
    "# Critical Value z > 1.645\n",
    "\n",
    "# Computation\n",
    "sig = 0.05\n",
    "z = (m1-m2-0.001)/(np.sqrt((chloridesAwal['chlorides'].std()**2/500) + (fixedAcidityAkhir['chlorides'].std()**2/500)))\n",
    "z_a = norm.ppf(1-sig)\n",
    "PVal = norm.sf(z) * 2\n",
    "\n",
    "display(Markdown(f\"Nilai p = {round(PVal,3)}\"))\n",
    "display(Markdown(f\"Nilai z = {round(z,3)}\"))\n",
    "display(Markdown(f\"Nilai alpha = {round(sig,3)}\"))\n",
    "display(Markdown(f\"Nilai z alpha = {round(z_a,3)}\"))\n",
    "display(Markdown(\"Kesimpulan\"))\n",
    "\n",
    "if((z > z_a) and PVal < 0.05):\n",
    "    print(\"H0 ditolak, bagian awal lebih besar dari bagian akhirnya \")\n",
    "else:\n",
    "    print(\"H0 diterima, bagian awal tidak lebih besar dari bagian akhirnya\")"
   ]
  },
  {
   "cell_type": "markdown",
   "metadata": {},
   "source": [
    "## c. Benarkah rata-rata sampel 25 baris pertama kolom Volatile Acidity sama dengan rata-rata 25 baris pertama kolom Sulphates ?"
   ]
  },
  {
   "attachments": {},
   "cell_type": "markdown",
   "metadata": {},
   "source": [
    "**Tentukan Hipotesis null** \n",
    "\n",
    "$H_0 : \\mu_{VA} - \\mu_{VS} = 0$\n",
    "\n",
    "**Tentukan Hipotesis alternatif**\n",
    "\n",
    "$H_1 : \\mu_{VA} - \\mu_{VS} \\neq 0$\n",
    "\n",
    "**Tentukan tingkat signifikan**\n",
    "\n",
    "$\\alpha = 0.05$\n",
    "\n",
    "**Menggunakan two tailed test dan perhitungan spooled t**\n",
    "\n",
    "Nilai $t$ didapatkan dari\n",
    "$$ t = \\frac{\\bar{x}_1 - \\bar{x}_2 - d_0}{s^2_p \\sqrt{\\frac{1}{n_1} + \\frac{1}{n_2}}}$$\n",
    "\n",
    "dan $s^2_p$\n",
    "$$ s^2_p = \\frac{s^2_1 (n_1 -1) + s^2_2 (n_2-1)}{n_1+n_2 -2} $$\n",
    "\n",
    "dengan critical value $t < -t_{\\alpha/2}$ atau $t > t_{\\alpha/2}$\n",
    "\n",
    "**Perhitungan $p$-value**\n",
    "\n",
    "$p$-value didapatkan dari $2P(T > t)$"
   ]
  },
  {
   "cell_type": "code",
   "execution_count": 47,
   "metadata": {
    "execution": {
     "iopub.execute_input": "2023-04-03T18:03:34.448037Z",
     "iopub.status.busy": "2023-04-03T18:03:34.447080Z",
     "iopub.status.idle": "2023-04-03T18:03:34.461218Z",
     "shell.execute_reply": "2023-04-03T18:03:34.459874Z",
     "shell.execute_reply.started": "2023-04-03T18:03:34.447975Z"
    }
   },
   "outputs": [
    {
     "data": {
      "text/markdown": [
       "t = -2.637"
      ],
      "text/plain": [
       "<IPython.core.display.Markdown object>"
      ]
     },
     "metadata": {},
     "output_type": "display_data"
    },
    {
     "data": {
      "text/markdown": [
       "t alpha = 2.011"
      ],
      "text/plain": [
       "<IPython.core.display.Markdown object>"
      ]
     },
     "metadata": {},
     "output_type": "display_data"
    },
    {
     "data": {
      "text/markdown": [
       "Nilai alpha = 0.05"
      ],
      "text/plain": [
       "<IPython.core.display.Markdown object>"
      ]
     },
     "metadata": {},
     "output_type": "display_data"
    },
    {
     "data": {
      "text/markdown": [
       "P Value = 0.011"
      ],
      "text/plain": [
       "<IPython.core.display.Markdown object>"
      ]
     },
     "metadata": {},
     "output_type": "display_data"
    },
    {
     "data": {
      "text/markdown": [
       "Kesimpulan:"
      ],
      "text/plain": [
       "<IPython.core.display.Markdown object>"
      ]
     },
     "metadata": {},
     "output_type": "display_data"
    },
    {
     "name": "stdout",
     "output_type": "stream",
     "text": [
      "H0 ditolak, rata-rata sampel 25 baris pertama kolom Volatile Acidity tidak sama dengan rata-rata 25 baris pertama kolom Sulphates\n"
     ]
    }
   ],
   "source": [
    "splitTwentyFive = df.head(25).copy()\n",
    "mVA = splitTwentyFive['volatile acidity'].mean()\n",
    "mS = splitTwentyFive['sulphates'].mean()\n",
    "\n",
    "# H0: mVA - mVS = 0\n",
    "# H1: mVA - mVS != 0\n",
    "# Derajat Kepercayaan: 0.05\n",
    "# Derajat Kebebasan = 25 + 25 - 2 = 48\n",
    "# Critical Value t < -2.011 atau t > 2.011\n",
    "\n",
    "# Computation\n",
    "sp = (splitTwentyFive['volatile acidity'].std()**2 * (24) + splitTwentyFive['sulphates'].std()**2 * (24))/48\n",
    "t = (mVA - mS - 0)/((np.sqrt(sp)*np.sqrt((1/25 + 1/25))))\n",
    "\n",
    "display(Markdown(f\"t = {round(t,3)}\"))\n",
    "t_a = scipy.stats.t.ppf(q=1-0.05/2, df = 48)\n",
    "display(Markdown(f\"t alpha = {round(t_a,3)}\"))\n",
    "\n",
    "#Cari nilai P\n",
    "PVal = scipy.stats.t.sf(abs(t), df=48) * 2\n",
    "\n",
    "display(Markdown(f\"Nilai alpha = 0.05\"))\n",
    "display(Markdown(f\"P Value = {round(PVal,3)}\"))\n",
    "\n",
    "display(Markdown(\"Kesimpulan:\"))\n",
    "\n",
    "if (PVal < sig and (t < -t_a or t > t_a)):\n",
    "    print(\"H0 ditolak, rata-rata sampel 25 baris pertama kolom Volatile Acidity tidak sama dengan rata-rata 25 baris pertama kolom Sulphates\")\n",
    "else:\n",
    "    print(\"H0 diterima, rata-rata sampel 25 baris pertama kolom Volatile Acidity sama dengan rata-rata 25 baris pertama kolom Sulphates\")"
   ]
  },
  {
   "cell_type": "markdown",
   "metadata": {},
   "source": [
    "## d. Bagian awal kolom residual sugar memiliki variansi yang sama dengan bagian akhirnya?"
   ]
  },
  {
   "cell_type": "markdown",
   "metadata": {},
   "source": [
    "**Tentukan Hipotesis null** \n",
    "\n",
    "$H_0 : v1 = v2$\n",
    "\n",
    "**Tentukan Hipotesis alternatif**\n",
    "\n",
    "$H_1 : v1 \\neq v2$\n",
    "\n",
    "**Tentukan tingkat signifikan**\n",
    "\n",
    "$\\alpha = 0.05$\n",
    "\n",
    "**Menggunakan uji two tailed f test**\n",
    "\n",
    "Perhitungan nilai $f$\n",
    "$$f = \\frac{s^2_1}{s^2_2}$$\n",
    "\n",
    "ambil daerah kritis $f < f_{1-\\alpha/2}(v_1,v_2)$ dan $f > f_{\\alpha / 2}(v_1,v_2)$\n",
    "\n",
    "degan $v_1 = n_1-1, v_2 = n_2-1$"
   ]
  },
  {
   "cell_type": "code",
   "execution_count": 48,
   "metadata": {
    "execution": {
     "iopub.execute_input": "2023-04-03T18:04:47.446387Z",
     "iopub.status.busy": "2023-04-03T18:04:47.445714Z",
     "iopub.status.idle": "2023-04-03T18:04:47.458381Z",
     "shell.execute_reply": "2023-04-03T18:04:47.456533Z",
     "shell.execute_reply.started": "2023-04-03T18:04:47.446350Z"
    },
    "scrolled": true
   },
   "outputs": [
    {
     "data": {
      "text/markdown": [
       "Nilai f: 0.942"
      ],
      "text/plain": [
       "<IPython.core.display.Markdown object>"
      ]
     },
     "metadata": {},
     "output_type": "display_data"
    },
    {
     "data": {
      "text/markdown": [
       "Kesimpulan:"
      ],
      "text/plain": [
       "<IPython.core.display.Markdown object>"
      ]
     },
     "metadata": {},
     "output_type": "display_data"
    },
    {
     "name": "stdout",
     "output_type": "stream",
     "text": [
      "H0 diterima : v1 = v2\n"
     ]
    }
   ],
   "source": [
    "# H0 : v1 = v2\n",
    "# H1 : v1 != v2\n",
    "\n",
    "rs = df['residual sugar'].copy()\n",
    "r1 = rs[:500]\n",
    "r2 = rs[500:1000]\n",
    "\n",
    "#cari critical region\n",
    "batas1 = scipy.stats.f.ppf(q=1-0.975, dfn=500-1, dfd=500-1)\n",
    "# print(batas1)\n",
    "batas2 = scipy.stats.f.ppf(q=0.975, dfn=500-1, dfd=500-1)\n",
    "# print(batas2)\n",
    "\n",
    "#cari f nya\n",
    "s1 = r1.var()\n",
    "s2 = r2.var()\n",
    "f = s1/s2\n",
    "\n",
    "display(Markdown(f\"Nilai f: {round(f,3)}\"))\n",
    "display(Markdown(\"Kesimpulan:\"))\n",
    "if (f<batas1 or f>batas2):\n",
    "    print(\"H0 ditolak : v1 != v2\")\n",
    "else:\n",
    "    print(\"H0 diterima : v1 = v2\")"
   ]
  },
  {
   "cell_type": "markdown",
   "metadata": {},
   "source": [
    "## e. Proporsi nilai setengah bagian awal alcohol yang lebih dari 7, adalah lebih besar daripada, proporsi nilai yang sama di setengah bagian akhir alcohol?"
   ]
  },
  {
   "attachments": {},
   "cell_type": "markdown",
   "metadata": {},
   "source": [
    "**Tentukan Hipotesis null** \n",
    "\n",
    "$H_0 : p1 = p2$\n",
    "\n",
    "**Tentukan Hipotesis alternatif**\n",
    "\n",
    "$H_1 : p1 \\neq p2$\n",
    "\n",
    "**Tentukan tingkat signifikan**\n",
    "\n",
    "$\\alpha = 0.05$\n",
    "\n",
    "**Two tailed test dengan z untuk testing p1 = p2**\n",
    "\n",
    "Nilai $z$\n",
    "$$ z= \\frac{\\hat{p}_1 - \\hat{p}_2}{\\sqrt{\\hat{p}\\hat{q}(1/n_1 + 1/n_2)}}$$\n",
    "\n",
    "dengan $\\hat{p}_1 = \\frac{x_1}{n_1}, \\hat{p}_2 = \\frac{x_2}{n_2}$ dan $\\hat{p} = \\frac{x_1 + x_2}{n_1 + n_2}, \\hat{q} = 1-\\hat{p}$\n",
    "\n",
    "daerah kritis: $ z < -z_{\\alpha}$ or $ z > z_{\\alpha}$"
   ]
  },
  {
   "cell_type": "code",
   "execution_count": 49,
   "metadata": {
    "execution": {
     "iopub.execute_input": "2023-04-03T18:05:39.605747Z",
     "iopub.status.busy": "2023-04-03T18:05:39.605272Z",
     "iopub.status.idle": "2023-04-03T18:05:39.618863Z",
     "shell.execute_reply": "2023-04-03T18:05:39.617267Z",
     "shell.execute_reply.started": "2023-04-03T18:05:39.605706Z"
    }
   },
   "outputs": [
    {
     "data": {
      "text/markdown": [
       "z tabel: 1.96"
      ],
      "text/plain": [
       "<IPython.core.display.Markdown object>"
      ]
     },
     "metadata": {},
     "output_type": "display_data"
    },
    {
     "data": {
      "text/markdown": [
       "z: 0.0"
      ],
      "text/plain": [
       "<IPython.core.display.Markdown object>"
      ]
     },
     "metadata": {},
     "output_type": "display_data"
    },
    {
     "data": {
      "text/markdown": [
       "Nilai p = 0.5"
      ],
      "text/plain": [
       "<IPython.core.display.Markdown object>"
      ]
     },
     "metadata": {},
     "output_type": "display_data"
    },
    {
     "name": "stdout",
     "output_type": "stream",
     "text": [
      "H1 diterima : p1 != p2\n"
     ]
    }
   ],
   "source": [
    "# H0 : p1 = p2\n",
    "# H1 : p1 != p2\n",
    "x1MoreThan7 = df.head(500).loc[df['alcohol']>7, \"alcohol\"]\n",
    "pTopi1 = len(x1MoreThan7)/1000\n",
    "x2MoreThan7 = df.tail(500).loc[df['alcohol']>7, \"alcohol\"]\n",
    "pTopi2 = len(x2MoreThan7)/1000\n",
    "\n",
    "sig = 0.05\n",
    "#hitung p\n",
    "p = (len(x1MoreThan7)+len(x2MoreThan7))/(1000 + 1000)\n",
    "# display(p)\n",
    "\n",
    "# z tabel\n",
    "z_a = norm.ppf(1-sig/2)\n",
    "display(Markdown(f\"z tabel: {round(z_a,3)}\"))\n",
    "\n",
    "#hitung z\n",
    "z = (pTopi1 - pTopi2)/np.sqrt(p*(1-p)*(1/500+1/500))\n",
    "display(Markdown(f\"z: {z}\"))\n",
    "\n",
    "PVal = norm.sf(z)\n",
    "\n",
    "display(Markdown(f\"Nilai p = {round(PVal,3)}\"))\n",
    "\n",
    "if (PVal<0.05 and (z < -z_a or z > z_a)):\n",
    "    print(\"H0 ditolak : p1 = p2\")\n",
    "else:\n",
    "    print(\"H1 diterima : p1 != p2\")"
   ]
  }
 ],
 "metadata": {
  "kernelspec": {
   "display_name": "Python 3 (ipykernel)",
   "language": "python",
   "name": "python3"
  },
  "language_info": {
   "codemirror_mode": {
    "name": "ipython",
    "version": 3
   },
   "file_extension": ".py",
   "mimetype": "text/x-python",
   "name": "python",
   "nbconvert_exporter": "python",
   "pygments_lexer": "ipython3",
   "version": "3.11.1"
  }
 },
 "nbformat": 4,
 "nbformat_minor": 4
}
